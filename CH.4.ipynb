{
 "cells": [
  {
   "cell_type": "code",
   "execution_count": 1,
   "metadata": {
    "collapsed": true
   },
   "outputs": [],
   "source": [
    "disaster=True"
   ]
  },
  {
   "cell_type": "code",
   "execution_count": 2,
   "metadata": {},
   "outputs": [
    {
     "name": "stdout",
     "output_type": "stream",
     "text": [
      "Woe!\n"
     ]
    }
   ],
   "source": [
    "if disaster:\n",
    "    print(\"Woe!\")\n",
    "else:\n",
    "    print(\"Whee\")"
   ]
  },
  {
   "cell_type": "code",
   "execution_count": 3,
   "metadata": {},
   "outputs": [
    {
     "name": "stdout",
     "output_type": "stream",
     "text": [
      "It's a cat.\n"
     ]
    }
   ],
   "source": [
    "furry=True\n",
    "small=True\n",
    "if furry:\n",
    "    if small:\n",
    "        print(\"It's a cat.\")\n",
    "    else:print(\"It's a bear!\")\n",
    "else:\n",
    "    if small:\n",
    "        print(\"It's a skink!\")\n",
    "    else:\n",
    "        print(\"It's a human.Or a hairless bear.\")"
   ]
  },
  {
   "cell_type": "code",
   "execution_count": 4,
   "metadata": {},
   "outputs": [
    {
     "name": "stdout",
     "output_type": "stream",
     "text": [
      "I've necer heard of the color puce\n"
     ]
    }
   ],
   "source": [
    "color=\"puce\"\n",
    "if color==\"red\":\n",
    "    print(\"It's a tomato\")\n",
    "elif color==\"green\":\n",
    "    print(\"It's a green pepper\")\n",
    "elif color==\"bee purple\":\n",
    "    print(\"I don't know what it is,but only bees can see it\")\n",
    "else:\n",
    "    print(\"I've necer heard of the color\",color)"
   ]
  },
  {
   "cell_type": "code",
   "execution_count": 5,
   "metadata": {
    "collapsed": true
   },
   "outputs": [],
   "source": [
    "x=7"
   ]
  },
  {
   "cell_type": "code",
   "execution_count": 6,
   "metadata": {},
   "outputs": [
    {
     "data": {
      "text/plain": [
       "False"
      ]
     },
     "execution_count": 6,
     "metadata": {},
     "output_type": "execute_result"
    }
   ],
   "source": [
    "x==5"
   ]
  },
  {
   "cell_type": "code",
   "execution_count": 7,
   "metadata": {},
   "outputs": [
    {
     "data": {
      "text/plain": [
       "True"
      ]
     },
     "execution_count": 7,
     "metadata": {},
     "output_type": "execute_result"
    }
   ],
   "source": [
    "x==7"
   ]
  },
  {
   "cell_type": "code",
   "execution_count": 8,
   "metadata": {},
   "outputs": [
    {
     "data": {
      "text/plain": [
       "True"
      ]
     },
     "execution_count": 8,
     "metadata": {},
     "output_type": "execute_result"
    }
   ],
   "source": [
    "5<x"
   ]
  },
  {
   "cell_type": "code",
   "execution_count": 9,
   "metadata": {},
   "outputs": [
    {
     "data": {
      "text/plain": [
       "True"
      ]
     },
     "execution_count": 9,
     "metadata": {},
     "output_type": "execute_result"
    }
   ],
   "source": [
    "x<10"
   ]
  },
  {
   "cell_type": "code",
   "execution_count": 10,
   "metadata": {},
   "outputs": [
    {
     "data": {
      "text/plain": [
       "True"
      ]
     },
     "execution_count": 10,
     "metadata": {},
     "output_type": "execute_result"
    }
   ],
   "source": [
    "5<x and x<10"
   ]
  },
  {
   "cell_type": "code",
   "execution_count": 11,
   "metadata": {},
   "outputs": [
    {
     "data": {
      "text/plain": [
       "True"
      ]
     },
     "execution_count": 11,
     "metadata": {},
     "output_type": "execute_result"
    }
   ],
   "source": [
    "5<x or x<10"
   ]
  },
  {
   "cell_type": "code",
   "execution_count": 12,
   "metadata": {},
   "outputs": [
    {
     "data": {
      "text/plain": [
       "False"
      ]
     },
     "execution_count": 12,
     "metadata": {},
     "output_type": "execute_result"
    }
   ],
   "source": [
    "5<x and x>10"
   ]
  },
  {
   "cell_type": "code",
   "execution_count": 13,
   "metadata": {},
   "outputs": [
    {
     "data": {
      "text/plain": [
       "True"
      ]
     },
     "execution_count": 13,
     "metadata": {},
     "output_type": "execute_result"
    }
   ],
   "source": [
    "5<x and not x>10"
   ]
  },
  {
   "cell_type": "code",
   "execution_count": 14,
   "metadata": {},
   "outputs": [
    {
     "data": {
      "text/plain": [
       "True"
      ]
     },
     "execution_count": 14,
     "metadata": {},
     "output_type": "execute_result"
    }
   ],
   "source": [
    "5<x<10"
   ]
  },
  {
   "cell_type": "code",
   "execution_count": 15,
   "metadata": {},
   "outputs": [
    {
     "data": {
      "text/plain": [
       "True"
      ]
     },
     "execution_count": 15,
     "metadata": {},
     "output_type": "execute_result"
    }
   ],
   "source": [
    "5<x<10<999"
   ]
  },
  {
   "cell_type": "code",
   "execution_count": 16,
   "metadata": {},
   "outputs": [
    {
     "name": "stdout",
     "output_type": "stream",
     "text": [
      "Hey,it's empty!\n"
     ]
    }
   ],
   "source": [
    "some_list=[]\n",
    "if some_list:\n",
    "    print(\"There's something in here\")\n",
    "else:\n",
    "    print(\"Hey,it's empty!\")"
   ]
  },
  {
   "cell_type": "code",
   "execution_count": 17,
   "metadata": {},
   "outputs": [
    {
     "name": "stdout",
     "output_type": "stream",
     "text": [
      "1\n",
      "2\n",
      "3\n",
      "4\n",
      "5\n"
     ]
    }
   ],
   "source": [
    "count=1\n",
    "while count<=5:\n",
    "    print(count)\n",
    "    count +=1"
   ]
  },
  {
   "cell_type": "code",
   "execution_count": 18,
   "metadata": {},
   "outputs": [
    {
     "name": "stdout",
     "output_type": "stream",
     "text": [
      "String tp capitalize [type q to quit]: test\n",
      "Test\n",
      "String tp capitalize [type q to quit]: Hey,it works\n",
      "Hey,it works\n",
      "String tp capitalize [type q to quit]: q\n"
     ]
    }
   ],
   "source": [
    "while True:\n",
    "    stuff=input(\"String tp capitalize [type q to quit]: \")\n",
    "    if stuff==\"q\":\n",
    "        break\n",
    "    print(stuff.capitalize())"
   ]
  },
  {
   "cell_type": "code",
   "execution_count": 19,
   "metadata": {},
   "outputs": [
    {
     "name": "stdout",
     "output_type": "stream",
     "text": [
      "Integer,please [q to quit]:1\n",
      "1 squared is 1\n",
      "Integer,please [q to quit]:2\n",
      "Integer,please [q to quit]:3\n",
      "3 squared is 9\n",
      "Integer,please [q to quit]:4\n",
      "Integer,please [q to quit]:5\n",
      "5 squared is 25\n",
      "Integer,please [q to quit]:q\n"
     ]
    }
   ],
   "source": [
    "while True:\n",
    "    value=input(\"Integer,please [q to quit]:\")\n",
    "    if value=='q':   #quit\n",
    "        break\n",
    "    number=int(value)\n",
    "    if number % 2 ==0:   #an even number\n",
    "        continue\n",
    "    print(number,\"squared is\",number*number)"
   ]
  },
  {
   "cell_type": "code",
   "execution_count": 20,
   "metadata": {},
   "outputs": [
    {
     "name": "stdout",
     "output_type": "stream",
     "text": [
      "No even number found\n"
     ]
    }
   ],
   "source": [
    "numbers=[1,3,5]\n",
    "position=0\n",
    "while position < len(numbers):\n",
    "    number=numbers[position]\n",
    "    if number % 2==0:\n",
    "        print('Found even number',number)\n",
    "        break\n",
    "    position +=1\n",
    "else: #break not called\n",
    "    print('No even number found')"
   ]
  },
  {
   "cell_type": "code",
   "execution_count": 21,
   "metadata": {},
   "outputs": [
    {
     "name": "stdout",
     "output_type": "stream",
     "text": [
      "Flopsy\n",
      "Mopsy\n",
      "Cottontail\n",
      "Peter\n"
     ]
    }
   ],
   "source": [
    "rabbits=['Flopsy','Mopsy','Cottontail','Peter']\n",
    "current=0\n",
    "for rabbit in rabbits:\n",
    "    print(rabbit)"
   ]
  },
  {
   "cell_type": "code",
   "execution_count": 22,
   "metadata": {},
   "outputs": [
    {
     "name": "stdout",
     "output_type": "stream",
     "text": [
      "c\n",
      "a\n",
      "t\n"
     ]
    }
   ],
   "source": [
    "word='cat'\n",
    "for letter in word:\n",
    "    print(letter)"
   ]
  },
  {
   "cell_type": "code",
   "execution_count": 23,
   "metadata": {},
   "outputs": [
    {
     "name": "stdout",
     "output_type": "stream",
     "text": [
      "room\n",
      "weapon\n",
      "person\n"
     ]
    }
   ],
   "source": [
    "accusation={'room':'ballroom','weapon':'lead pipe','person':'Col. Mustard'}\n",
    "for card in accusation:  #or,for card in zccusation.keys():\n",
    "    print(card)"
   ]
  },
  {
   "cell_type": "code",
   "execution_count": 24,
   "metadata": {},
   "outputs": [
    {
     "name": "stdout",
     "output_type": "stream",
     "text": [
      "ballroom\n",
      "lead pipe\n",
      "Col. Mustard\n"
     ]
    }
   ],
   "source": [
    "accusation={'room':'ballroom','weapon':'lead pipe','person':'Col. Mustard'}\n",
    "for value in accusation.values():\n",
    "    print(value)"
   ]
  },
  {
   "cell_type": "code",
   "execution_count": 25,
   "metadata": {},
   "outputs": [
    {
     "name": "stdout",
     "output_type": "stream",
     "text": [
      "('room', 'ballroom')\n",
      "('weapon', 'lead pipe')\n",
      "('person', 'Col. Mustard')\n"
     ]
    }
   ],
   "source": [
    "accusation={'room':'ballroom','weapon':'lead pipe','person':'Col. Mustard'}\n",
    "for item in accusation.items():\n",
    "    print(item)"
   ]
  },
  {
   "cell_type": "code",
   "execution_count": 26,
   "metadata": {},
   "outputs": [
    {
     "name": "stdout",
     "output_type": "stream",
     "text": [
      "Card room has the contents ballroom\n",
      "Card weapon has the contents lead pipe\n",
      "Card person has the contents Col. Mustard\n"
     ]
    }
   ],
   "source": [
    "accusation={'room':'ballroom','weapon':'lead pipe','person':'Col. Mustard'}\n",
    "for card,contents in accusation.items():\n",
    "    print('Card',card,'has the contents',contents)"
   ]
  },
  {
   "cell_type": "code",
   "execution_count": 27,
   "metadata": {},
   "outputs": [
    {
     "name": "stdout",
     "output_type": "stream",
     "text": [
      "This is not much of a cheese shop,is it?\n"
     ]
    }
   ],
   "source": [
    "cheeses=[]\n",
    "for cheese in cheeses:\n",
    "    print('This shop has some lovely',cheese)\n",
    "    break\n",
    "else:  #沒有中斷代表沒有乳酪\n",
    "    print('This is not much of a cheese shop,is it?')"
   ]
  },
  {
   "cell_type": "code",
   "execution_count": 28,
   "metadata": {},
   "outputs": [
    {
     "name": "stdout",
     "output_type": "stream",
     "text": [
      "This is not much of a cheese shop,is it?\n"
     ]
    }
   ],
   "source": [
    "cheeses=[]\n",
    "found_one=False\n",
    "for cheese in cheeses:\n",
    "    found_one=True\n",
    "    print('This shop has some lovely',cheese)\n",
    "    break\n",
    "if not found_one:\n",
    "    print('This is not much of a cheese shop,is it?')"
   ]
  },
  {
   "cell_type": "code",
   "execution_count": 29,
   "metadata": {},
   "outputs": [
    {
     "name": "stdout",
     "output_type": "stream",
     "text": [
      "Monday :drink coffee -eat banana -enjoy tiramisu\n",
      "Tuesday :drink tea -eat orange -enjoy ice cream\n",
      "Wednesday :drink beer -eat peach -enjoy pie\n"
     ]
    }
   ],
   "source": [
    "days=['Monday','Tuesday','Wednesday']\n",
    "fruits=['banana','orange','peach']\n",
    "drinks=['coffee','tea','beer']\n",
    "desserts=['tiramisu','ice cream','pie','pudding']\n",
    "for day,fruit,drink,dessert in zip(days,fruits,drinks,desserts):\n",
    "    print(day,\":drink\",drink,\"-eat\",fruit,\"-enjoy\",dessert)"
   ]
  },
  {
   "cell_type": "code",
   "execution_count": 30,
   "metadata": {},
   "outputs": [
    {
     "data": {
      "text/plain": [
       "[('Monday', 'Lundi'), ('Tuesday', 'Mardi'), ('Wednesday', 'Mercredi')]"
      ]
     },
     "execution_count": 30,
     "metadata": {},
     "output_type": "execute_result"
    }
   ],
   "source": [
    "english='Monday','Tuesday','Wednesday'\n",
    "french='Lundi','Mardi','Mercredi'\n",
    "list(zip(english,french))"
   ]
  },
  {
   "cell_type": "code",
   "execution_count": 31,
   "metadata": {},
   "outputs": [
    {
     "data": {
      "text/plain": [
       "{'Monday': 'Lundi', 'Tuesday': 'Mardi', 'Wednesday': 'Mercredi'}"
      ]
     },
     "execution_count": 31,
     "metadata": {},
     "output_type": "execute_result"
    }
   ],
   "source": [
    "dict(zip(english,french))"
   ]
  },
  {
   "cell_type": "code",
   "execution_count": 32,
   "metadata": {},
   "outputs": [
    {
     "name": "stdout",
     "output_type": "stream",
     "text": [
      "0\n",
      "1\n",
      "2\n"
     ]
    }
   ],
   "source": [
    "for x in range(0,3):\n",
    "    print(x)"
   ]
  },
  {
   "cell_type": "code",
   "execution_count": 33,
   "metadata": {},
   "outputs": [
    {
     "data": {
      "text/plain": [
       "[0, 1, 2]"
      ]
     },
     "execution_count": 33,
     "metadata": {},
     "output_type": "execute_result"
    }
   ],
   "source": [
    "list(range(0,3))"
   ]
  },
  {
   "cell_type": "code",
   "execution_count": 34,
   "metadata": {},
   "outputs": [
    {
     "name": "stdout",
     "output_type": "stream",
     "text": [
      "2\n",
      "1\n",
      "0\n"
     ]
    }
   ],
   "source": [
    "for x in range(2,-1,-1):\n",
    "    print(x)"
   ]
  },
  {
   "cell_type": "code",
   "execution_count": 35,
   "metadata": {},
   "outputs": [
    {
     "data": {
      "text/plain": [
       "[2, 1, 0]"
      ]
     },
     "execution_count": 35,
     "metadata": {},
     "output_type": "execute_result"
    }
   ],
   "source": [
    "list(range(2,-1,-1))"
   ]
  },
  {
   "cell_type": "code",
   "execution_count": 36,
   "metadata": {},
   "outputs": [
    {
     "data": {
      "text/plain": [
       "[0, 2, 4, 6, 8, 10]"
      ]
     },
     "execution_count": 36,
     "metadata": {},
     "output_type": "execute_result"
    }
   ],
   "source": [
    "list(range(0,11,2))"
   ]
  },
  {
   "cell_type": "code",
   "execution_count": 37,
   "metadata": {},
   "outputs": [
    {
     "data": {
      "text/plain": [
       "[1, 2, 3, 4, 5]"
      ]
     },
     "execution_count": 37,
     "metadata": {},
     "output_type": "execute_result"
    }
   ],
   "source": [
    "number_list=[]\n",
    "number_list.append(1)\n",
    "number_list.append(2)\n",
    "number_list.append(3)\n",
    "number_list.append(4)\n",
    "number_list.append(5)\n",
    "number_list"
   ]
  },
  {
   "cell_type": "code",
   "execution_count": 38,
   "metadata": {},
   "outputs": [
    {
     "data": {
      "text/plain": [
       "[1, 2, 3, 4, 5]"
      ]
     },
     "execution_count": 38,
     "metadata": {},
     "output_type": "execute_result"
    }
   ],
   "source": [
    "number_list=[]\n",
    "for number in range(1,6):\n",
    "    number_list.append(number)\n",
    "number_list"
   ]
  },
  {
   "cell_type": "code",
   "execution_count": 39,
   "metadata": {},
   "outputs": [
    {
     "data": {
      "text/plain": [
       "[1, 2, 3, 4, 5]"
      ]
     },
     "execution_count": 39,
     "metadata": {},
     "output_type": "execute_result"
    }
   ],
   "source": [
    "number_list=list(range(1,6))\n",
    "number_list"
   ]
  },
  {
   "cell_type": "code",
   "execution_count": 40,
   "metadata": {},
   "outputs": [
    {
     "data": {
      "text/plain": [
       "[1, 2, 3, 4, 5]"
      ]
     },
     "execution_count": 40,
     "metadata": {},
     "output_type": "execute_result"
    }
   ],
   "source": [
    "number_list=[number for number in range(1,6)]\n",
    "number_list"
   ]
  },
  {
   "cell_type": "code",
   "execution_count": 41,
   "metadata": {},
   "outputs": [
    {
     "data": {
      "text/plain": [
       "[0, 1, 2, 3, 4]"
      ]
     },
     "execution_count": 41,
     "metadata": {},
     "output_type": "execute_result"
    }
   ],
   "source": [
    "number_list=[number-1 for number in range(1,6)]\n",
    "number_list"
   ]
  },
  {
   "cell_type": "code",
   "execution_count": 42,
   "metadata": {},
   "outputs": [
    {
     "data": {
      "text/plain": [
       "[1, 3, 5]"
      ]
     },
     "execution_count": 42,
     "metadata": {},
     "output_type": "execute_result"
    }
   ],
   "source": [
    "a_list=[number for number in range(1,6) if number % 2 ==1]\n",
    "a_list"
   ]
  },
  {
   "cell_type": "code",
   "execution_count": 43,
   "metadata": {},
   "outputs": [
    {
     "data": {
      "text/plain": [
       "[1, 3, 5]"
      ]
     },
     "execution_count": 43,
     "metadata": {},
     "output_type": "execute_result"
    }
   ],
   "source": [
    "a_list=[]\n",
    "for number in range(1,6):\n",
    "    if number % 2 ==1:\n",
    "        a_list.append(number)\n",
    "a_list"
   ]
  },
  {
   "cell_type": "code",
   "execution_count": 44,
   "metadata": {},
   "outputs": [
    {
     "name": "stdout",
     "output_type": "stream",
     "text": [
      "1 1\n",
      "1 2\n",
      "2 1\n",
      "2 2\n",
      "3 1\n",
      "3 2\n"
     ]
    }
   ],
   "source": [
    "rows=range(1,4)\n",
    "cols=range(1,3)\n",
    "for row in rows:\n",
    "    for col in cols:\n",
    "        print(row,col)"
   ]
  },
  {
   "cell_type": "code",
   "execution_count": 45,
   "metadata": {},
   "outputs": [
    {
     "name": "stdout",
     "output_type": "stream",
     "text": [
      "(1, 1)\n",
      "(1, 2)\n",
      "(2, 1)\n",
      "(2, 2)\n",
      "(3, 1)\n",
      "(3, 2)\n"
     ]
    }
   ],
   "source": [
    "rows=range(1,4)\n",
    "cols=range(1,3)\n",
    "cells=[(row,col) for row in rows for col in cols]\n",
    "for cell in cells:\n",
    "    print(cell)"
   ]
  },
  {
   "cell_type": "code",
   "execution_count": 46,
   "metadata": {},
   "outputs": [
    {
     "name": "stdout",
     "output_type": "stream",
     "text": [
      "1 1\n",
      "1 2\n",
      "2 1\n",
      "2 2\n",
      "3 1\n",
      "3 2\n"
     ]
    }
   ],
   "source": [
    "for row,col in cells:\n",
    "    print(row,col)"
   ]
  },
  {
   "cell_type": "code",
   "execution_count": 47,
   "metadata": {},
   "outputs": [
    {
     "data": {
      "text/plain": [
       "{'e': 2, 'l': 1, 'r': 1, 's': 1, 't': 2}"
      ]
     },
     "execution_count": 47,
     "metadata": {},
     "output_type": "execute_result"
    }
   ],
   "source": [
    "word='letters'\n",
    "letter_counts={letter:word.count(letter) for letter in word}\n",
    "letter_counts"
   ]
  },
  {
   "cell_type": "code",
   "execution_count": 48,
   "metadata": {},
   "outputs": [
    {
     "data": {
      "text/plain": [
       "{'e': 2, 'l': 1, 'r': 1, 's': 1, 't': 2}"
      ]
     },
     "execution_count": 48,
     "metadata": {},
     "output_type": "execute_result"
    }
   ],
   "source": [
    "word='letters'\n",
    "letter_counts={letter:word.count(letter) for letter in set (word)}\n",
    "letter_counts"
   ]
  },
  {
   "cell_type": "code",
   "execution_count": 49,
   "metadata": {},
   "outputs": [
    {
     "data": {
      "text/plain": [
       "{1, 2, 3, 4, 5}"
      ]
     },
     "execution_count": 49,
     "metadata": {},
     "output_type": "execute_result"
    }
   ],
   "source": [
    "a_set={number for number in range(1,6)}\n",
    "a_set"
   ]
  },
  {
   "cell_type": "code",
   "execution_count": 50,
   "metadata": {},
   "outputs": [
    {
     "data": {
      "text/plain": [
       "generator"
      ]
     },
     "execution_count": 50,
     "metadata": {},
     "output_type": "execute_result"
    }
   ],
   "source": [
    "number_thing=(number for number in range(1,6))\n",
    "type(number_thing)"
   ]
  },
  {
   "cell_type": "code",
   "execution_count": 51,
   "metadata": {},
   "outputs": [
    {
     "name": "stdout",
     "output_type": "stream",
     "text": [
      "1\n",
      "2\n",
      "3\n",
      "4\n",
      "5\n"
     ]
    }
   ],
   "source": [
    "for number in number_thing:\n",
    "    print(number)"
   ]
  },
  {
   "cell_type": "code",
   "execution_count": 52,
   "metadata": {},
   "outputs": [
    {
     "data": {
      "text/plain": [
       "[1, 2, 3, 4, 5]"
      ]
     },
     "execution_count": 52,
     "metadata": {},
     "output_type": "execute_result"
    }
   ],
   "source": [
    "number_thing=(number for number in range(1,6))\n",
    "number_list=list(number_thing)\n",
    "number_list"
   ]
  },
  {
   "cell_type": "code",
   "execution_count": 53,
   "metadata": {},
   "outputs": [
    {
     "data": {
      "text/plain": [
       "[]"
      ]
     },
     "execution_count": 53,
     "metadata": {},
     "output_type": "execute_result"
    }
   ],
   "source": [
    "try_again=list(number_thing)\n",
    "try_again"
   ]
  },
  {
   "cell_type": "code",
   "execution_count": 54,
   "metadata": {
    "collapsed": true
   },
   "outputs": [],
   "source": [
    "def do_nothing():\n",
    "    pass"
   ]
  },
  {
   "cell_type": "code",
   "execution_count": 55,
   "metadata": {},
   "outputs": [
    {
     "name": "stdout",
     "output_type": "stream",
     "text": [
      "quack\n"
     ]
    }
   ],
   "source": [
    "def make_a_sound():\n",
    "    print('quack')\n",
    "make_a_sound()"
   ]
  },
  {
   "cell_type": "code",
   "execution_count": 56,
   "metadata": {},
   "outputs": [
    {
     "name": "stdout",
     "output_type": "stream",
     "text": [
      "Splendid!\n"
     ]
    }
   ],
   "source": [
    "def agree():\n",
    "    return True\n",
    "if agree():\n",
    "    print('Splendid!')\n",
    "else:\n",
    "    print('That was unexpected')    "
   ]
  },
  {
   "cell_type": "code",
   "execution_count": 57,
   "metadata": {},
   "outputs": [
    {
     "data": {
      "text/plain": [
       "'RumplestiltskinRumplestiltskin'"
      ]
     },
     "execution_count": 57,
     "metadata": {},
     "output_type": "execute_result"
    }
   ],
   "source": [
    "def echo(anything):\n",
    "    return anything+''+anything\n",
    "echo('Rumplestiltskin')"
   ]
  },
  {
   "cell_type": "code",
   "execution_count": 58,
   "metadata": {
    "collapsed": true
   },
   "outputs": [],
   "source": [
    "def commentary(color):\n",
    "    if color =='red':\n",
    "        return \"It's a tomato.\"\n",
    "    elif color ==\"green\":\n",
    "        return \"It's a green pepper\"\n",
    "    elif color =='bee purple':\n",
    "        return \"I don't know what it is,but only bees can see it\"\n",
    "    else:\n",
    "        return \"I've never heard of the color\"  \".\""
   ]
  },
  {
   "cell_type": "code",
   "execution_count": 59,
   "metadata": {},
   "outputs": [
    {
     "name": "stdout",
     "output_type": "stream",
     "text": [
      "I've never heard of the color.\n"
     ]
    }
   ],
   "source": [
    "comment=commentary('blue')\n",
    "print(comment)"
   ]
  },
  {
   "cell_type": "code",
   "execution_count": 60,
   "metadata": {},
   "outputs": [
    {
     "name": "stdout",
     "output_type": "stream",
     "text": [
      "None\n"
     ]
    }
   ],
   "source": [
    "print(do_nothing())"
   ]
  },
  {
   "cell_type": "code",
   "execution_count": 61,
   "metadata": {},
   "outputs": [
    {
     "name": "stdout",
     "output_type": "stream",
     "text": [
      "It's no thing\n"
     ]
    }
   ],
   "source": [
    "thing=None\n",
    "if thing:\n",
    "    print(\"It's some thing\")\n",
    "else:\n",
    "    print(\"It's no thing\")"
   ]
  },
  {
   "cell_type": "code",
   "execution_count": 62,
   "metadata": {},
   "outputs": [
    {
     "name": "stdout",
     "output_type": "stream",
     "text": [
      "It's nothing\n"
     ]
    }
   ],
   "source": [
    "if thing is None:\n",
    "    print(\"It's nothing\")\n",
    "else:\n",
    "    print(\"It's no thing\")"
   ]
  },
  {
   "cell_type": "code",
   "execution_count": 63,
   "metadata": {
    "collapsed": true
   },
   "outputs": [],
   "source": [
    "def is_none(thing):\n",
    "    if thing is None:\n",
    "        print(\"It's None\")\n",
    "    elif thing:\n",
    "        print(\"It's True\")\n",
    "    else:\n",
    "        print(\"It's False\")"
   ]
  },
  {
   "cell_type": "code",
   "execution_count": 64,
   "metadata": {},
   "outputs": [
    {
     "name": "stdout",
     "output_type": "stream",
     "text": [
      "It's None\n"
     ]
    }
   ],
   "source": [
    "is_none(None)"
   ]
  },
  {
   "cell_type": "code",
   "execution_count": 65,
   "metadata": {},
   "outputs": [
    {
     "name": "stdout",
     "output_type": "stream",
     "text": [
      "It's True\n"
     ]
    }
   ],
   "source": [
    "is_none(True)"
   ]
  },
  {
   "cell_type": "code",
   "execution_count": 66,
   "metadata": {},
   "outputs": [
    {
     "name": "stdout",
     "output_type": "stream",
     "text": [
      "It's False\n"
     ]
    }
   ],
   "source": [
    "is_none(False)"
   ]
  },
  {
   "cell_type": "code",
   "execution_count": 67,
   "metadata": {},
   "outputs": [
    {
     "name": "stdout",
     "output_type": "stream",
     "text": [
      "It's False\n"
     ]
    }
   ],
   "source": [
    "is_none(0)"
   ]
  },
  {
   "cell_type": "code",
   "execution_count": 68,
   "metadata": {},
   "outputs": [
    {
     "name": "stdout",
     "output_type": "stream",
     "text": [
      "It's False\n"
     ]
    }
   ],
   "source": [
    "is_none(0.0)"
   ]
  },
  {
   "cell_type": "code",
   "execution_count": 69,
   "metadata": {},
   "outputs": [
    {
     "name": "stdout",
     "output_type": "stream",
     "text": [
      "It's False\n"
     ]
    }
   ],
   "source": [
    "is_none(())"
   ]
  },
  {
   "cell_type": "code",
   "execution_count": 70,
   "metadata": {},
   "outputs": [
    {
     "name": "stdout",
     "output_type": "stream",
     "text": [
      "It's False\n"
     ]
    }
   ],
   "source": [
    "is_none([])"
   ]
  },
  {
   "cell_type": "code",
   "execution_count": 71,
   "metadata": {},
   "outputs": [
    {
     "name": "stdout",
     "output_type": "stream",
     "text": [
      "It's False\n"
     ]
    }
   ],
   "source": [
    "is_none({})"
   ]
  },
  {
   "cell_type": "code",
   "execution_count": 72,
   "metadata": {},
   "outputs": [
    {
     "name": "stdout",
     "output_type": "stream",
     "text": [
      "It's False\n"
     ]
    }
   ],
   "source": [
    "is_none(set())"
   ]
  },
  {
   "cell_type": "code",
   "execution_count": 73,
   "metadata": {},
   "outputs": [
    {
     "data": {
      "text/plain": [
       "{'dessert': 'cake', 'entree': 'chicken', 'wine': 'chardonnay'}"
      ]
     },
     "execution_count": 73,
     "metadata": {},
     "output_type": "execute_result"
    }
   ],
   "source": [
    "def menu(wine,entree,dessert):\n",
    "    return{'wine':wine,'entree':entree,'dessert':dessert}\n",
    "menu('chardonnay','chicken','cake')"
   ]
  },
  {
   "cell_type": "code",
   "execution_count": 74,
   "metadata": {},
   "outputs": [
    {
     "data": {
      "text/plain": [
       "{'dessert': 'bordeaux', 'entree': 'bagel', 'wine': 'beef'}"
      ]
     },
     "execution_count": 74,
     "metadata": {},
     "output_type": "execute_result"
    }
   ],
   "source": [
    "menu('beef','bagel','bordeaux')"
   ]
  },
  {
   "cell_type": "code",
   "execution_count": 75,
   "metadata": {},
   "outputs": [
    {
     "data": {
      "text/plain": [
       "{'dessert': 'bagel', 'entree': 'beef', 'wine': 'bordeaux'}"
      ]
     },
     "execution_count": 75,
     "metadata": {},
     "output_type": "execute_result"
    }
   ],
   "source": [
    "menu(entree='beef',dessert='bagel',wine='bordeaux')"
   ]
  },
  {
   "cell_type": "code",
   "execution_count": 76,
   "metadata": {},
   "outputs": [
    {
     "data": {
      "text/plain": [
       "{'dessert': 'flan', 'entree': 'fish', 'wine': 'frontenac'}"
      ]
     },
     "execution_count": 76,
     "metadata": {},
     "output_type": "execute_result"
    }
   ],
   "source": [
    "menu('frontenac',dessert='flan',entree='fish')"
   ]
  },
  {
   "cell_type": "code",
   "execution_count": 77,
   "metadata": {},
   "outputs": [
    {
     "data": {
      "text/plain": [
       "{'dessert': 'pudding', 'entree': 'chicken', 'wine': 'chardonnay'}"
      ]
     },
     "execution_count": 77,
     "metadata": {},
     "output_type": "execute_result"
    }
   ],
   "source": [
    "def menu(wine,entree,dessert=\"pudding\"):\n",
    "    return{'wine':wine,'entree':entree,'dessert':dessert}\n",
    "menu('chardonnay','chicken')"
   ]
  },
  {
   "cell_type": "code",
   "execution_count": 78,
   "metadata": {},
   "outputs": [
    {
     "data": {
      "text/plain": [
       "{'dessert': 'doughnut', 'entree': 'duck', 'wine': 'dunkelfelder'}"
      ]
     },
     "execution_count": 78,
     "metadata": {},
     "output_type": "execute_result"
    }
   ],
   "source": [
    "menu('dunkelfelder','duck','doughnut')"
   ]
  },
  {
   "cell_type": "code",
   "execution_count": 79,
   "metadata": {
    "collapsed": true
   },
   "outputs": [],
   "source": [
    "def buggy(arg,result=[]):\n",
    "    result.append(arg)\n",
    "    print(result)"
   ]
  },
  {
   "cell_type": "code",
   "execution_count": 80,
   "metadata": {},
   "outputs": [
    {
     "name": "stdout",
     "output_type": "stream",
     "text": [
      "['a']\n"
     ]
    }
   ],
   "source": [
    "buggy('a')"
   ]
  },
  {
   "cell_type": "code",
   "execution_count": 81,
   "metadata": {},
   "outputs": [
    {
     "name": "stdout",
     "output_type": "stream",
     "text": [
      "['a', 'b']\n"
     ]
    }
   ],
   "source": [
    "buggy('b')"
   ]
  },
  {
   "cell_type": "code",
   "execution_count": 82,
   "metadata": {
    "collapsed": true
   },
   "outputs": [],
   "source": [
    "def works(arg):\n",
    "    result=[]\n",
    "    result.append(arg)\n",
    "    return result"
   ]
  },
  {
   "cell_type": "code",
   "execution_count": 83,
   "metadata": {},
   "outputs": [
    {
     "data": {
      "text/plain": [
       "['a']"
      ]
     },
     "execution_count": 83,
     "metadata": {},
     "output_type": "execute_result"
    }
   ],
   "source": [
    "works('a')"
   ]
  },
  {
   "cell_type": "code",
   "execution_count": 84,
   "metadata": {},
   "outputs": [
    {
     "data": {
      "text/plain": [
       "['b']"
      ]
     },
     "execution_count": 84,
     "metadata": {},
     "output_type": "execute_result"
    }
   ],
   "source": [
    "works('b')"
   ]
  },
  {
   "cell_type": "code",
   "execution_count": 85,
   "metadata": {
    "collapsed": true
   },
   "outputs": [],
   "source": [
    "def nonbuggy(arg,result=None):\n",
    "    if result is None:\n",
    "        \n",
    "        result=[]\n",
    "    result.append(arg)\n",
    "    print (result)"
   ]
  },
  {
   "cell_type": "code",
   "execution_count": 86,
   "metadata": {},
   "outputs": [
    {
     "name": "stdout",
     "output_type": "stream",
     "text": [
      "['a']\n"
     ]
    }
   ],
   "source": [
    "nonbuggy('a')"
   ]
  },
  {
   "cell_type": "code",
   "execution_count": 87,
   "metadata": {},
   "outputs": [
    {
     "name": "stdout",
     "output_type": "stream",
     "text": [
      "['b']\n"
     ]
    }
   ],
   "source": [
    "nonbuggy('b')"
   ]
  },
  {
   "cell_type": "code",
   "execution_count": 88,
   "metadata": {
    "collapsed": true
   },
   "outputs": [],
   "source": [
    "def print_args(*args):\n",
    "    print('Positional argument tuple:',args)"
   ]
  },
  {
   "cell_type": "code",
   "execution_count": 89,
   "metadata": {},
   "outputs": [
    {
     "name": "stdout",
     "output_type": "stream",
     "text": [
      "Positional argument tuple: ()\n"
     ]
    }
   ],
   "source": [
    "print_args()"
   ]
  },
  {
   "cell_type": "code",
   "execution_count": 90,
   "metadata": {},
   "outputs": [
    {
     "name": "stdout",
     "output_type": "stream",
     "text": [
      "Positional argument tuple: (3, 2, 1, 'wait!', 'uh...')\n"
     ]
    }
   ],
   "source": [
    "print_args(3,2,1,'wait!','uh...')"
   ]
  },
  {
   "cell_type": "code",
   "execution_count": 91,
   "metadata": {
    "collapsed": true
   },
   "outputs": [],
   "source": [
    "def print_more(required1,required2,*args):\n",
    "    print('Need this one:',required1)\n",
    "    print('Need this one too:',required2)\n",
    "    print('All the rest:',args)"
   ]
  },
  {
   "cell_type": "code",
   "execution_count": 92,
   "metadata": {},
   "outputs": [
    {
     "name": "stdout",
     "output_type": "stream",
     "text": [
      "Need this one: cap\n",
      "Need this one too: gloves\n",
      "All the rest: ('scarf', 'monocle', 'mustache wax')\n"
     ]
    }
   ],
   "source": [
    "print_more('cap','gloves','scarf','monocle','mustache wax')"
   ]
  },
  {
   "cell_type": "code",
   "execution_count": 93,
   "metadata": {
    "collapsed": true
   },
   "outputs": [],
   "source": [
    "def print_kwargs(**kwargs):\n",
    "    print('Keyword arguments:',kwargs)"
   ]
  },
  {
   "cell_type": "code",
   "execution_count": 94,
   "metadata": {},
   "outputs": [
    {
     "name": "stdout",
     "output_type": "stream",
     "text": [
      "Keyword arguments: {'wine': 'merlot', 'entree': 'mutton', 'dessert': 'macaroon'}\n"
     ]
    }
   ],
   "source": [
    "print_kwargs(wine='merlot',entree='mutton',dessert='macaroon')"
   ]
  },
  {
   "cell_type": "code",
   "execution_count": 95,
   "metadata": {
    "collapsed": true
   },
   "outputs": [],
   "source": [
    "def echo(anything):\n",
    "    'echo returns its input argument'\n",
    "    return anything"
   ]
  },
  {
   "cell_type": "code",
   "execution_count": 96,
   "metadata": {
    "collapsed": true
   },
   "outputs": [],
   "source": [
    "def print_if_true(thing,check):\n",
    "    '''\n",
    "    Prints the first argument if a second argument is true.\n",
    "    The operation is:\n",
    "        1.Check whether the *second*argument is true.\n",
    "        2.If it is,print the *first* argument.\n",
    "    '''"
   ]
  },
  {
   "cell_type": "code",
   "execution_count": 97,
   "metadata": {},
   "outputs": [
    {
     "name": "stdout",
     "output_type": "stream",
     "text": [
      "Help on function echo in module __main__:\n",
      "\n",
      "echo(anything)\n",
      "    echo returns its input argument\n",
      "\n"
     ]
    }
   ],
   "source": [
    "help(echo)"
   ]
  },
  {
   "cell_type": "code",
   "execution_count": 98,
   "metadata": {},
   "outputs": [
    {
     "name": "stdout",
     "output_type": "stream",
     "text": [
      "echo returns its input argument\n"
     ]
    }
   ],
   "source": [
    "print(echo.__doc__)"
   ]
  },
  {
   "cell_type": "code",
   "execution_count": 99,
   "metadata": {
    "collapsed": true
   },
   "outputs": [],
   "source": [
    "def answer():\n",
    "    print(42)"
   ]
  },
  {
   "cell_type": "code",
   "execution_count": 100,
   "metadata": {},
   "outputs": [
    {
     "name": "stdout",
     "output_type": "stream",
     "text": [
      "42\n"
     ]
    }
   ],
   "source": [
    "answer()"
   ]
  },
  {
   "cell_type": "code",
   "execution_count": 101,
   "metadata": {
    "collapsed": true
   },
   "outputs": [],
   "source": [
    "def run_something(func):\n",
    "    func()"
   ]
  },
  {
   "cell_type": "code",
   "execution_count": 102,
   "metadata": {},
   "outputs": [
    {
     "name": "stdout",
     "output_type": "stream",
     "text": [
      "42\n"
     ]
    }
   ],
   "source": [
    "run_something(answer)"
   ]
  },
  {
   "cell_type": "code",
   "execution_count": 103,
   "metadata": {},
   "outputs": [
    {
     "data": {
      "text/plain": [
       "function"
      ]
     },
     "execution_count": 103,
     "metadata": {},
     "output_type": "execute_result"
    }
   ],
   "source": [
    "type(run_something)"
   ]
  },
  {
   "cell_type": "code",
   "execution_count": 104,
   "metadata": {
    "collapsed": true
   },
   "outputs": [],
   "source": [
    "def add_args(arg1,arg2):\n",
    "    print(arg1+arg2)"
   ]
  },
  {
   "cell_type": "code",
   "execution_count": 105,
   "metadata": {},
   "outputs": [
    {
     "data": {
      "text/plain": [
       "function"
      ]
     },
     "execution_count": 105,
     "metadata": {},
     "output_type": "execute_result"
    }
   ],
   "source": [
    "type(add_args)"
   ]
  },
  {
   "cell_type": "code",
   "execution_count": 106,
   "metadata": {
    "collapsed": true
   },
   "outputs": [],
   "source": [
    "def run_something_with_args(func,arg1,arg2):\n",
    "    func(arg1,arg2)"
   ]
  },
  {
   "cell_type": "code",
   "execution_count": 107,
   "metadata": {},
   "outputs": [
    {
     "name": "stdout",
     "output_type": "stream",
     "text": [
      "14\n"
     ]
    }
   ],
   "source": [
    "run_something_with_args(add_args,5,9)"
   ]
  },
  {
   "cell_type": "code",
   "execution_count": 108,
   "metadata": {
    "collapsed": true
   },
   "outputs": [],
   "source": [
    "def sum_args(*args):\n",
    "    return sum(args)"
   ]
  },
  {
   "cell_type": "code",
   "execution_count": 109,
   "metadata": {
    "collapsed": true
   },
   "outputs": [],
   "source": [
    "def run_with_positional_args(func,*args):\n",
    "    return func(*args)"
   ]
  },
  {
   "cell_type": "code",
   "execution_count": 110,
   "metadata": {},
   "outputs": [
    {
     "data": {
      "text/plain": [
       "10"
      ]
     },
     "execution_count": 110,
     "metadata": {},
     "output_type": "execute_result"
    }
   ],
   "source": [
    "run_with_positional_args(sum_args,1,2,3,4)"
   ]
  },
  {
   "cell_type": "code",
   "execution_count": 111,
   "metadata": {
    "collapsed": true
   },
   "outputs": [],
   "source": [
    "def outer(a,b):\n",
    "    def inner(c,d):\n",
    "        return c+d\n",
    "    return inner(a,b)"
   ]
  },
  {
   "cell_type": "code",
   "execution_count": 112,
   "metadata": {},
   "outputs": [
    {
     "data": {
      "text/plain": [
       "11"
      ]
     },
     "execution_count": 112,
     "metadata": {},
     "output_type": "execute_result"
    }
   ],
   "source": [
    "outer(4,7)"
   ]
  },
  {
   "cell_type": "code",
   "execution_count": 113,
   "metadata": {
    "collapsed": true
   },
   "outputs": [],
   "source": [
    "def knights(saying):\n",
    "    def inner(quote):\n",
    "        return \"We are the knights who say:'%s'\" % quote\n",
    "    return inner(saying)"
   ]
  },
  {
   "cell_type": "code",
   "execution_count": 114,
   "metadata": {},
   "outputs": [
    {
     "data": {
      "text/plain": [
       "\"We are the knights who say:'Ni!'\""
      ]
     },
     "execution_count": 114,
     "metadata": {},
     "output_type": "execute_result"
    }
   ],
   "source": [
    "knights('Ni!')"
   ]
  },
  {
   "cell_type": "code",
   "execution_count": 115,
   "metadata": {
    "collapsed": true
   },
   "outputs": [],
   "source": [
    "def knights2(saying):\n",
    "    def inner2():\n",
    "        return\"We are the knights who say:'%s'\" % saying\n",
    "    return inner2"
   ]
  },
  {
   "cell_type": "code",
   "execution_count": 116,
   "metadata": {},
   "outputs": [],
   "source": [
    "a=knights2('Duck')\n",
    "b=knights2('Hasenpfeffer')"
   ]
  },
  {
   "cell_type": "code",
   "execution_count": 117,
   "metadata": {},
   "outputs": [
    {
     "data": {
      "text/plain": [
       "function"
      ]
     },
     "execution_count": 117,
     "metadata": {},
     "output_type": "execute_result"
    }
   ],
   "source": [
    "type(a)"
   ]
  },
  {
   "cell_type": "code",
   "execution_count": 118,
   "metadata": {},
   "outputs": [
    {
     "data": {
      "text/plain": [
       "function"
      ]
     },
     "execution_count": 118,
     "metadata": {},
     "output_type": "execute_result"
    }
   ],
   "source": [
    "type(b)"
   ]
  },
  {
   "cell_type": "code",
   "execution_count": 119,
   "metadata": {},
   "outputs": [
    {
     "data": {
      "text/plain": [
       "<function __main__.knights2.<locals>.inner2>"
      ]
     },
     "execution_count": 119,
     "metadata": {},
     "output_type": "execute_result"
    }
   ],
   "source": [
    "a"
   ]
  },
  {
   "cell_type": "code",
   "execution_count": 120,
   "metadata": {},
   "outputs": [
    {
     "data": {
      "text/plain": [
       "<function __main__.knights2.<locals>.inner2>"
      ]
     },
     "execution_count": 120,
     "metadata": {},
     "output_type": "execute_result"
    }
   ],
   "source": [
    "b"
   ]
  },
  {
   "cell_type": "code",
   "execution_count": 121,
   "metadata": {},
   "outputs": [
    {
     "data": {
      "text/plain": [
       "\"We are the knights who say:'Duck'\""
      ]
     },
     "execution_count": 121,
     "metadata": {},
     "output_type": "execute_result"
    }
   ],
   "source": [
    "a()"
   ]
  },
  {
   "cell_type": "code",
   "execution_count": 122,
   "metadata": {},
   "outputs": [
    {
     "data": {
      "text/plain": [
       "\"We are the knights who say:'Hasenpfeffer'\""
      ]
     },
     "execution_count": 122,
     "metadata": {},
     "output_type": "execute_result"
    }
   ],
   "source": [
    "b()"
   ]
  },
  {
   "cell_type": "code",
   "execution_count": 123,
   "metadata": {
    "collapsed": true
   },
   "outputs": [],
   "source": [
    "def edit_story(words,func):\n",
    "    for word in words:\n",
    "        print(func(word))"
   ]
  },
  {
   "cell_type": "code",
   "execution_count": 124,
   "metadata": {
    "collapsed": true
   },
   "outputs": [],
   "source": [
    "stairs=['thud','meow','thud','hiss']"
   ]
  },
  {
   "cell_type": "code",
   "execution_count": 125,
   "metadata": {
    "collapsed": true
   },
   "outputs": [],
   "source": [
    "def enliven(word):   #give that prose more punch\n",
    "    return word.capitalize() + '!'"
   ]
  },
  {
   "cell_type": "code",
   "execution_count": 126,
   "metadata": {},
   "outputs": [
    {
     "name": "stdout",
     "output_type": "stream",
     "text": [
      "Thud!\n",
      "Meow!\n",
      "Thud!\n",
      "Hiss!\n"
     ]
    }
   ],
   "source": [
    "edit_story(stairs,enliven)"
   ]
  },
  {
   "cell_type": "code",
   "execution_count": 127,
   "metadata": {},
   "outputs": [
    {
     "data": {
      "text/plain": [
       "5050"
      ]
     },
     "execution_count": 127,
     "metadata": {},
     "output_type": "execute_result"
    }
   ],
   "source": [
    "sum(range(1,101))"
   ]
  },
  {
   "cell_type": "code",
   "execution_count": 128,
   "metadata": {},
   "outputs": [],
   "source": [
    "def my_range(first=0,last=10,step=1):\n",
    "    number=first\n",
    "    while number<last:\n",
    "        yield number\n",
    "        number += step"
   ]
  },
  {
   "cell_type": "code",
   "execution_count": 129,
   "metadata": {},
   "outputs": [
    {
     "data": {
      "text/plain": [
       "<function __main__.my_range>"
      ]
     },
     "execution_count": 129,
     "metadata": {},
     "output_type": "execute_result"
    }
   ],
   "source": [
    "my_range"
   ]
  },
  {
   "cell_type": "code",
   "execution_count": 130,
   "metadata": {},
   "outputs": [
    {
     "data": {
      "text/plain": [
       "<generator object my_range at 0x000001571D58FBA0>"
      ]
     },
     "execution_count": 130,
     "metadata": {},
     "output_type": "execute_result"
    }
   ],
   "source": [
    "ranger=my_range(1,5)\n",
    "ranger"
   ]
  },
  {
   "cell_type": "code",
   "execution_count": 131,
   "metadata": {},
   "outputs": [
    {
     "name": "stdout",
     "output_type": "stream",
     "text": [
      "1\n",
      "2\n",
      "3\n",
      "4\n"
     ]
    }
   ],
   "source": [
    "for x in ranger:\n",
    "    print(x)"
   ]
  },
  {
   "cell_type": "code",
   "execution_count": 132,
   "metadata": {
    "collapsed": true
   },
   "outputs": [],
   "source": [
    "def document_it(func):\n",
    "    def new_function(*args,**kwargs):\n",
    "        print('Running function:',func._name_)\n",
    "        print('Positional arguments:',args)\n",
    "        print('Keyword arguments:',kwargs)\n",
    "        result=func(*args,**kwargs)\n",
    "        print('Result:',result)\n",
    "        return result\n",
    "    return new_functions"
   ]
  },
  {
   "cell_type": "code",
   "execution_count": 133,
   "metadata": {
    "collapsed": true
   },
   "outputs": [],
   "source": [
    "def add_ints(a,b):\n",
    "    return a+b"
   ]
  },
  {
   "cell_type": "code",
   "execution_count": 134,
   "metadata": {},
   "outputs": [
    {
     "data": {
      "text/plain": [
       "8"
      ]
     },
     "execution_count": 134,
     "metadata": {},
     "output_type": "execute_result"
    }
   ],
   "source": [
    "add_ints(3,5)"
   ]
  },
  {
   "cell_type": "code",
   "execution_count": 135,
   "metadata": {},
   "outputs": [],
   "source": [
    "def square_it(func):\n",
    "    def new_function(*args,**kwargs):\n",
    "        result=func(*args,**kwargs)\n",
    "        return result*result\n",
    "    return new_function"
   ]
  },
  {
   "cell_type": "code",
   "execution_count": 136,
   "metadata": {},
   "outputs": [],
   "source": [
    "@square_it\n",
    "def add_ints(a,b):\n",
    "    return a+b"
   ]
  },
  {
   "cell_type": "code",
   "execution_count": 137,
   "metadata": {},
   "outputs": [
    {
     "data": {
      "text/plain": [
       "64"
      ]
     },
     "execution_count": 137,
     "metadata": {},
     "output_type": "execute_result"
    }
   ],
   "source": [
    "add_ints(3,5)"
   ]
  },
  {
   "cell_type": "code",
   "execution_count": 138,
   "metadata": {
    "collapsed": true
   },
   "outputs": [],
   "source": [
    "animal='fruitbat'\n",
    "def print_global():\n",
    "    print('inside print_global:',animal)"
   ]
  },
  {
   "cell_type": "code",
   "execution_count": 139,
   "metadata": {},
   "outputs": [
    {
     "name": "stdout",
     "output_type": "stream",
     "text": [
      "a t the top level: fruitbat\n"
     ]
    }
   ],
   "source": [
    "print('a t the top level:',animal)"
   ]
  },
  {
   "cell_type": "code",
   "execution_count": 140,
   "metadata": {},
   "outputs": [
    {
     "name": "stdout",
     "output_type": "stream",
     "text": [
      "inside print_global: fruitbat\n"
     ]
    }
   ],
   "source": [
    "print_global()"
   ]
  },
  {
   "cell_type": "code",
   "execution_count": 141,
   "metadata": {},
   "outputs": [],
   "source": [
    "def change_and_print_global():\n",
    "    print('inside change_and_print_global:',animal)\n",
    "    animal='wombat'\n",
    "    print('after the change:',animal)"
   ]
  },
  {
   "cell_type": "code",
   "execution_count": 142,
   "metadata": {
    "collapsed": true
   },
   "outputs": [],
   "source": [
    "def change_local():\n",
    "    animal='wombat'\n",
    "    print('inside change_local:',animal,id(animal))"
   ]
  },
  {
   "cell_type": "code",
   "execution_count": 143,
   "metadata": {},
   "outputs": [
    {
     "name": "stdout",
     "output_type": "stream",
     "text": [
      "inside change_local: wombat 1473666076600\n"
     ]
    }
   ],
   "source": [
    "change_local()"
   ]
  },
  {
   "cell_type": "code",
   "execution_count": 144,
   "metadata": {},
   "outputs": [
    {
     "data": {
      "text/plain": [
       "'fruitbat'"
      ]
     },
     "execution_count": 144,
     "metadata": {},
     "output_type": "execute_result"
    }
   ],
   "source": [
    "animal"
   ]
  },
  {
   "cell_type": "code",
   "execution_count": 145,
   "metadata": {
    "scrolled": true
   },
   "outputs": [
    {
     "data": {
      "text/plain": [
       "1473666186864"
      ]
     },
     "execution_count": 145,
     "metadata": {},
     "output_type": "execute_result"
    }
   ],
   "source": [
    "id(animal)"
   ]
  },
  {
   "cell_type": "code",
   "execution_count": 146,
   "metadata": {},
   "outputs": [],
   "source": [
    "animal='fruitbat'\n",
    "def change_and_print_global():\n",
    "    global animal\n",
    "    animal='wombat'\n",
    "    print('inside change_and_print_global:',animal)"
   ]
  },
  {
   "cell_type": "code",
   "execution_count": 147,
   "metadata": {},
   "outputs": [
    {
     "data": {
      "text/plain": [
       "'fruitbat'"
      ]
     },
     "execution_count": 147,
     "metadata": {},
     "output_type": "execute_result"
    }
   ],
   "source": [
    "animal"
   ]
  },
  {
   "cell_type": "code",
   "execution_count": 148,
   "metadata": {},
   "outputs": [
    {
     "name": "stdout",
     "output_type": "stream",
     "text": [
      "inside change_and_print_global: wombat\n"
     ]
    }
   ],
   "source": [
    "change_and_print_global()"
   ]
  },
  {
   "cell_type": "code",
   "execution_count": 149,
   "metadata": {},
   "outputs": [
    {
     "data": {
      "text/plain": [
       "'wombat'"
      ]
     },
     "execution_count": 149,
     "metadata": {},
     "output_type": "execute_result"
    }
   ],
   "source": [
    "animal"
   ]
  },
  {
   "cell_type": "code",
   "execution_count": 150,
   "metadata": {
    "collapsed": true
   },
   "outputs": [],
   "source": [
    "animal='fruitbat'\n",
    "def change_local():\n",
    "    animal='wombat' #local variable\n",
    "    print('locals:',locals())"
   ]
  },
  {
   "cell_type": "code",
   "execution_count": 151,
   "metadata": {},
   "outputs": [
    {
     "data": {
      "text/plain": [
       "'fruitbat'"
      ]
     },
     "execution_count": 151,
     "metadata": {},
     "output_type": "execute_result"
    }
   ],
   "source": [
    "animal"
   ]
  },
  {
   "cell_type": "code",
   "execution_count": 152,
   "metadata": {},
   "outputs": [
    {
     "name": "stdout",
     "output_type": "stream",
     "text": [
      "locals: {'animal': 'wombat'}\n"
     ]
    }
   ],
   "source": [
    "change_local()"
   ]
  },
  {
   "cell_type": "code",
   "execution_count": 153,
   "metadata": {},
   "outputs": [
    {
     "name": "stdout",
     "output_type": "stream",
     "text": [
      "globals: {'__name__': '__main__', '__doc__': 'Automatically created module for IPython interactive environment', '__package__': None, '__loader__': None, '__spec__': None, '__builtin__': <module 'builtins' (built-in)>, '__builtins__': <module 'builtins' (built-in)>, '_ih': ['', 'disaster=True', 'if disaster:\\n    print(\"Woe!\")\\nelse:\\n    print(\"Whee\")', 'furry=True\\nsmall=True\\nif furry:\\n    if small:\\n        print(\"It\\'s a cat.\")\\n    else:print(\"It\\'s a bear!\")\\nelse:\\n    if small:\\n        print(\"It\\'s a skink!\")\\n    else:\\n        print(\"It\\'s a human.Or a hairless bear.\")', 'color=\"puce\"\\nif color==\"red\":\\n    print(\"It\\'s a tomato\")\\nelif color==\"green\":\\n    print(\"It\\'s a green pepper\")\\nelif color==\"bee purple\":\\n    print(\"I don\\'t know what it is,but only bees can see it\")\\nelse:\\n    print(\"I\\'ve necer heard of the color\",color)', 'x=7', 'x==5', 'x==7', '5<x', 'x<10', '5<x and x<10', '5<x or x<10', '5<x and x>10', '5<x and not x>10', '5<x<10', '5<x<10<999', 'some_list=[]\\nif some_list:\\n    print(\"There\\'s something in here\")\\nelse:\\n    print(\"Hey,it\\'s empty!\")', 'count=1\\nwhile count<=5:\\n    print(count)\\n    count +=1', 'while True:\\n    stuff=input(\"String tp capitalize [type q to quit]: \")\\n    if stuff==\"q\":\\n        break\\n    print(stuff.capitalize())', 'while True:\\n    value=input(\"Integer,please [q to quit]:\")\\n    if value==\\'q\\':   #quit\\n        break\\n    number=int(value)\\n    if number % 2 ==0:   #an even number\\n        continue\\n    print(number,\"squared is\",number*number)', \"numbers=[1,3,5]\\nposition=0\\nwhile position < len(numbers):\\n    number=numbers[position]\\n    if number % 2==0:\\n        print('Found even number',number)\\n        break\\n    position +=1\\nelse: #break not called\\n    print('No even number found')\", \"rabbits=['Flopsy','Mopsy','Cottontail','Peter']\\ncurrent=0\\nfor rabbit in rabbits:\\n    print(rabbit)\", \"word='cat'\\nfor letter in word:\\n    print(letter)\", \"accusation={'room':'ballroom','weapon':'lead pipe','person':'Col. Mustard'}\\nfor card in accusation:  #or,for card in zccusation.keys():\\n    print(card)\", \"accusation={'room':'ballroom','weapon':'lead pipe','person':'Col. Mustard'}\\nfor value in accusation.values():\\n    print(value)\", \"accusation={'room':'ballroom','weapon':'lead pipe','person':'Col. Mustard'}\\nfor item in accusation.items():\\n    print(item)\", \"accusation={'room':'ballroom','weapon':'lead pipe','person':'Col. Mustard'}\\nfor card,contents in accusation.items():\\n    print('Card',card,'has the contents',contents)\", \"cheeses=[]\\nfor cheese in cheeses:\\n    print('This shop has some lovely',cheese)\\n    break\\nelse:  #沒有中斷代表沒有乳酪\\n    print('This is not much of a cheese shop,is it?')\", \"cheeses=[]\\nfound_one=False\\nfor cheese in cheeses:\\n    found_one=True\\n    print('This shop has some lovely',cheese)\\n    break\\nif not found_one:\\n    print('This is not much of a cheese shop,is it?')\", 'days=[\\'Monday\\',\\'Tuesday\\',\\'Wednesday\\']\\nfruits=[\\'banana\\',\\'orange\\',\\'peach\\']\\ndrinks=[\\'coffee\\',\\'tea\\',\\'beer\\']\\ndesserts=[\\'tiramisu\\',\\'ice cream\\',\\'pie\\',\\'pudding\\']\\nfor day,fruit,drink,dessert in zip(days,fruits,drinks,desserts):\\n    print(day,\":drink\",drink,\"-eat\",fruit,\"-enjoy\",dessert)', \"english='Monday','Tuesday','Wednesday'\\nfrench='Lundi','Mardi','Mercredi'\\nlist(zip(english,french))\", 'dict(zip(english,french))', 'for x in range(0,3):\\n    print(x)', 'list(range(0,3))', 'for x in range(2,-1,-1):\\n    print(x)', 'list(range(2,-1,-1))', 'list(range(0,11,2))', 'number_list=[]\\nnumber_list.append(1)\\nnumber_list.append(2)\\nnumber_list.append(3)\\nnumber_list.append(4)\\nnumber_list.append(5)\\nnumber_list', 'number_list=[]\\nfor number in range(1,6):\\n    number_list.append(number)\\nnumber_list', 'number_list=list(range(1,6))\\nnumber_list', 'number_list=[number for number in range(1,6)]\\nnumber_list', 'number_list=[number-1 for number in range(1,6)]\\nnumber_list', 'a_list=[number for number in range(1,6) if number % 2 ==1]\\na_list', 'a_list=[]\\nfor number in range(1,6):\\n    if number % 2 ==1:\\n        a_list.append(number)\\na_list', 'rows=range(1,4)\\ncols=range(1,3)\\nfor row in rows:\\n    for col in cols:\\n        print(row,col)', 'rows=range(1,4)\\ncols=range(1,3)\\ncells=[(row,col) for row in rows for col in cols]\\nfor cell in cells:\\n    print(cell)', 'for row,col in cells:\\n    print(row,col)', \"word='letters'\\nletter_counts={letter:word.count(letter) for letter in word}\\nletter_counts\", \"word='letters'\\nletter_counts={letter:word.count(letter) for letter in set (word)}\\nletter_counts\", 'a_set={number for number in range(1,6)}\\na_set', 'number_thing=(number for number in range(1,6))\\ntype(number_thing)', 'for number in number_thing:\\n    print(number)', 'number_thing=(number for number in range(1,6))\\nnumber_list=list(number_thing)\\nnumber_list', 'try_again=list(number_thing)\\ntry_again', 'def do_nothing():\\n    pass', \"def make_a_sound():\\n    print('quack')\\nmake_a_sound()\", \"def agree():\\n    return True\\nif agree():\\n    print('Splendid!')\\nelse:\\n    print('That was unexpected')    \", \"def echo(anything):\\n    return anything+''+anything\\necho('Rumplestiltskin')\", 'def commentary(color):\\n    if color ==\\'red\\':\\n        return \"It\\'s a tomato.\"\\n    elif color ==\"green\":\\n        return \"It\\'s a green pepper\"\\n    elif color ==\\'bee purple\\':\\n        return \"I don\\'t know what it is,but only bees can see it\"\\n    else:\\n        return \"I\\'ve never heard of the color\"  \".\"', \"comment=commentary('blue')\\nprint(comment)\", 'print(do_nothing())', 'thing=None\\nif thing:\\n    print(\"It\\'s some thing\")\\nelse:\\n    print(\"It\\'s no thing\")', 'if thing is None:\\n    print(\"It\\'s nothing\")\\nelse:\\n    print(\"It\\'s no thing\")', 'def is_none(thing):\\n    if thing is None:\\n        print(\"It\\'s None\")\\n    elif thing:\\n        print(\"It\\'s True\")\\n    else:\\n        print(\"It\\'s False\")', 'is_none(None)', 'is_none(True)', 'is_none(False)', 'is_none(0)', 'is_none(0.0)', 'is_none(())', 'is_none([])', 'is_none({})', 'is_none(set())', \"def menu(wine,entree,dessert):\\n    return{'wine':wine,'entree':entree,'dessert':dessert}\\nmenu('chardonnay','chicken','cake')\", \"menu('beef','bagel','bordeaux')\", \"menu(entree='beef',dessert='bagel',wine='bordeaux')\", \"menu('frontenac',dessert='flan',entree='fish')\", 'def menu(wine,entree,dessert=\"pudding\"):\\n    return{\\'wine\\':wine,\\'entree\\':entree,\\'dessert\\':dessert}\\nmenu(\\'chardonnay\\',\\'chicken\\')', \"menu('dunkelfelder','duck','doughnut')\", 'def buggy(arg,result=[]):\\n    result.append(arg)\\n    print(result)', \"buggy('a')\", \"buggy('b')\", 'def works(arg):\\n    result=[]\\n    result.append(arg)\\n    return result', \"works('a')\", \"works('b')\", 'def nonbuggy(arg,result=None):\\n    if result is None:\\n        \\n        result=[]\\n    result.append(arg)\\n    print (result)', \"nonbuggy('a')\", \"nonbuggy('b')\", \"def print_args(*args):\\n    print('Positional argument tuple:',args)\", 'print_args()', \"print_args(3,2,1,'wait!','uh...')\", \"def print_more(required1,required2,*args):\\n    print('Need this one:',required1)\\n    print('Need this one too:',required2)\\n    print('All the rest:',args)\", \"print_more('cap','gloves','scarf','monocle','mustache wax')\", \"def print_kwargs(**kwargs):\\n    print('Keyword arguments:',kwargs)\", \"print_kwargs(wine='merlot',entree='mutton',dessert='macaroon')\", \"def echo(anything):\\n    'echo returns its input argument'\\n    return anything\", \"def print_if_true(thing,check):\\n    '''\\n    Prints the first argument if a second argument is true.\\n    The operation is:\\n        1.Check whether the *second*argument is true.\\n        2.If it is,print the *first* argument.\\n    '''\", 'help(echo)', 'print(echo.__doc__)', 'def answer():\\n    print(42)', 'answer()', 'def run_something(func):\\n    func()', 'run_something(answer)', 'type(run_something)', 'def add_args(arg1,arg2):\\n    print(arg1+arg2)', 'type(add_args)', 'def run_something_with_args(func,arg1,arg2):\\n    func(arg1,arg2)', 'run_something_with_args(add_args,5,9)', 'def sum_args(*args):\\n    return sum(args)', 'def run_with_positional_args(func,*args):\\n    return func(*args)', 'run_with_positional_args(sum_args,1,2,3,4)', 'def outer(a,b):\\n    def inner(c,d):\\n        return c+d\\n    return inner(a,b)', 'outer(4,7)', 'def knights(saying):\\n    def inner(quote):\\n        return \"We are the knights who say:\\'%s\\'\" % quote\\n    return inner(saying)', \"knights('Ni!')\", 'def knights2(saying):\\n    def inner2():\\n        return\"We are the knights who say:\\'%s\\'\" % saying\\n    return inner2', \"a=knights2('Duck')\\nb=knights2('Hasenpfeffer')\", 'type(a)', 'type(b)', 'a', 'b', 'a()', 'b()', 'def edit_story(words,func):\\n    for word in words:\\n        print(func(word))', \"stairs=['thud','meow','thud','hiss']\", \"def enliven(word):   #give that prose more punch\\n    return word.capitalize() + '!'\", 'edit_story(stairs,enliven)', 'sum(range(1,101))', 'def my_range(first=0,last=10,step=1):\\n    number=first\\n    while number<last:\\n        yield number\\n        number += step', 'my_range', 'ranger=my_range(1,5)\\nranger', 'for x in ranger:\\n    print(x)', \"def document_it(func):\\n    def new_function(*args,**kwargs):\\n        print('Running function:',func._name_)\\n        print('Positional arguments:',args)\\n        print('Keyword arguments:',kwargs)\\n        result=func(*args,**kwargs)\\n        print('Result:',result)\\n        return result\\n    return new_functions\", 'def add_ints(a,b):\\n    return a+b', 'add_ints(3,5)', 'def square_it(func):\\n    def new_function(*args,**kwargs):\\n        result=func(*args,**kwargs)\\n        return result*result\\n    return new_function', '@square_it\\ndef add_ints(a,b):\\n    return a+b', 'add_ints(3,5)', \"animal='fruitbat'\\ndef print_global():\\n    print('inside print_global:',animal)\", \"print('a t the top level:',animal)\", 'print_global()', \"def change_and_print_global():\\n    print('inside change_and_print_global:',animal)\\n    animal='wombat'\\n    print('after the change:',animal)\", \"def change_local():\\n    animal='wombat'\\n    print('inside change_local:',animal,id(animal))\", 'change_local()', 'animal', 'id(animal)', \"animal='fruitbat'\\ndef change_and_print_global():\\n    global animal\\n    animal='wombat'\\n    print('inside change_and_print_global:',animal)\", 'animal', 'change_and_print_global()', 'animal', \"animal='fruitbat'\\ndef change_local():\\n    animal='wombat' #local variable\\n    print('locals:',locals())\", 'animal', 'change_local()', \"print('globals:',globals()) #reformatted a little for presentation\"], '_oh': {6: False, 7: True, 8: True, 9: True, 10: True, 11: True, 12: False, 13: True, 14: True, 15: True, 30: [('Monday', 'Lundi'), ('Tuesday', 'Mardi'), ('Wednesday', 'Mercredi')], 31: {'Monday': 'Lundi', 'Tuesday': 'Mardi', 'Wednesday': 'Mercredi'}, 33: [0, 1, 2], 35: [2, 1, 0], 36: [0, 2, 4, 6, 8, 10], 37: [1, 2, 3, 4, 5], 38: [1, 2, 3, 4, 5], 39: [1, 2, 3, 4, 5], 40: [1, 2, 3, 4, 5], 41: [0, 1, 2, 3, 4], 42: [1, 3, 5], 43: [1, 3, 5], 47: {'l': 1, 'e': 2, 't': 2, 'r': 1, 's': 1}, 48: {'t': 2, 'l': 1, 'r': 1, 's': 1, 'e': 2}, 49: {1, 2, 3, 4, 5}, 50: <class 'generator'>, 52: [1, 2, 3, 4, 5], 53: [], 57: 'RumplestiltskinRumplestiltskin', 73: {'wine': 'chardonnay', 'entree': 'chicken', 'dessert': 'cake'}, 74: {'wine': 'beef', 'entree': 'bagel', 'dessert': 'bordeaux'}, 75: {'wine': 'bordeaux', 'entree': 'beef', 'dessert': 'bagel'}, 76: {'wine': 'frontenac', 'entree': 'fish', 'dessert': 'flan'}, 77: {'wine': 'chardonnay', 'entree': 'chicken', 'dessert': 'pudding'}, 78: {'wine': 'dunkelfelder', 'entree': 'duck', 'dessert': 'doughnut'}, 83: ['a'], 84: ['b'], 103: <class 'function'>, 105: <class 'function'>, 110: 10, 112: 11, 114: \"We are the knights who say:'Ni!'\", 117: <class 'function'>, 118: <class 'function'>, 119: <function knights2.<locals>.inner2 at 0x000001571D5787B8>, 120: <function knights2.<locals>.inner2 at 0x000001571D578D90>, 121: \"We are the knights who say:'Duck'\", 122: \"We are the knights who say:'Hasenpfeffer'\", 127: 5050, 129: <function my_range at 0x000001571D562A60>, 130: <generator object my_range at 0x000001571D58FBA0>, 134: 8, 137: 64, 144: 'fruitbat', 145: 1473666186864, 147: 'fruitbat', 149: 'wombat', 151: 'fruitbat'}, '_dh': ['C:\\\\Users\\\\scps9'], 'In': ['', 'disaster=True', 'if disaster:\\n    print(\"Woe!\")\\nelse:\\n    print(\"Whee\")', 'furry=True\\nsmall=True\\nif furry:\\n    if small:\\n        print(\"It\\'s a cat.\")\\n    else:print(\"It\\'s a bear!\")\\nelse:\\n    if small:\\n        print(\"It\\'s a skink!\")\\n    else:\\n        print(\"It\\'s a human.Or a hairless bear.\")', 'color=\"puce\"\\nif color==\"red\":\\n    print(\"It\\'s a tomato\")\\nelif color==\"green\":\\n    print(\"It\\'s a green pepper\")\\nelif color==\"bee purple\":\\n    print(\"I don\\'t know what it is,but only bees can see it\")\\nelse:\\n    print(\"I\\'ve necer heard of the color\",color)', 'x=7', 'x==5', 'x==7', '5<x', 'x<10', '5<x and x<10', '5<x or x<10', '5<x and x>10', '5<x and not x>10', '5<x<10', '5<x<10<999', 'some_list=[]\\nif some_list:\\n    print(\"There\\'s something in here\")\\nelse:\\n    print(\"Hey,it\\'s empty!\")', 'count=1\\nwhile count<=5:\\n    print(count)\\n    count +=1', 'while True:\\n    stuff=input(\"String tp capitalize [type q to quit]: \")\\n    if stuff==\"q\":\\n        break\\n    print(stuff.capitalize())', 'while True:\\n    value=input(\"Integer,please [q to quit]:\")\\n    if value==\\'q\\':   #quit\\n        break\\n    number=int(value)\\n    if number % 2 ==0:   #an even number\\n        continue\\n    print(number,\"squared is\",number*number)', \"numbers=[1,3,5]\\nposition=0\\nwhile position < len(numbers):\\n    number=numbers[position]\\n    if number % 2==0:\\n        print('Found even number',number)\\n        break\\n    position +=1\\nelse: #break not called\\n    print('No even number found')\", \"rabbits=['Flopsy','Mopsy','Cottontail','Peter']\\ncurrent=0\\nfor rabbit in rabbits:\\n    print(rabbit)\", \"word='cat'\\nfor letter in word:\\n    print(letter)\", \"accusation={'room':'ballroom','weapon':'lead pipe','person':'Col. Mustard'}\\nfor card in accusation:  #or,for card in zccusation.keys():\\n    print(card)\", \"accusation={'room':'ballroom','weapon':'lead pipe','person':'Col. Mustard'}\\nfor value in accusation.values():\\n    print(value)\", \"accusation={'room':'ballroom','weapon':'lead pipe','person':'Col. Mustard'}\\nfor item in accusation.items():\\n    print(item)\", \"accusation={'room':'ballroom','weapon':'lead pipe','person':'Col. Mustard'}\\nfor card,contents in accusation.items():\\n    print('Card',card,'has the contents',contents)\", \"cheeses=[]\\nfor cheese in cheeses:\\n    print('This shop has some lovely',cheese)\\n    break\\nelse:  #沒有中斷代表沒有乳酪\\n    print('This is not much of a cheese shop,is it?')\", \"cheeses=[]\\nfound_one=False\\nfor cheese in cheeses:\\n    found_one=True\\n    print('This shop has some lovely',cheese)\\n    break\\nif not found_one:\\n    print('This is not much of a cheese shop,is it?')\", 'days=[\\'Monday\\',\\'Tuesday\\',\\'Wednesday\\']\\nfruits=[\\'banana\\',\\'orange\\',\\'peach\\']\\ndrinks=[\\'coffee\\',\\'tea\\',\\'beer\\']\\ndesserts=[\\'tiramisu\\',\\'ice cream\\',\\'pie\\',\\'pudding\\']\\nfor day,fruit,drink,dessert in zip(days,fruits,drinks,desserts):\\n    print(day,\":drink\",drink,\"-eat\",fruit,\"-enjoy\",dessert)', \"english='Monday','Tuesday','Wednesday'\\nfrench='Lundi','Mardi','Mercredi'\\nlist(zip(english,french))\", 'dict(zip(english,french))', 'for x in range(0,3):\\n    print(x)', 'list(range(0,3))', 'for x in range(2,-1,-1):\\n    print(x)', 'list(range(2,-1,-1))', 'list(range(0,11,2))', 'number_list=[]\\nnumber_list.append(1)\\nnumber_list.append(2)\\nnumber_list.append(3)\\nnumber_list.append(4)\\nnumber_list.append(5)\\nnumber_list', 'number_list=[]\\nfor number in range(1,6):\\n    number_list.append(number)\\nnumber_list', 'number_list=list(range(1,6))\\nnumber_list', 'number_list=[number for number in range(1,6)]\\nnumber_list', 'number_list=[number-1 for number in range(1,6)]\\nnumber_list', 'a_list=[number for number in range(1,6) if number % 2 ==1]\\na_list', 'a_list=[]\\nfor number in range(1,6):\\n    if number % 2 ==1:\\n        a_list.append(number)\\na_list', 'rows=range(1,4)\\ncols=range(1,3)\\nfor row in rows:\\n    for col in cols:\\n        print(row,col)', 'rows=range(1,4)\\ncols=range(1,3)\\ncells=[(row,col) for row in rows for col in cols]\\nfor cell in cells:\\n    print(cell)', 'for row,col in cells:\\n    print(row,col)', \"word='letters'\\nletter_counts={letter:word.count(letter) for letter in word}\\nletter_counts\", \"word='letters'\\nletter_counts={letter:word.count(letter) for letter in set (word)}\\nletter_counts\", 'a_set={number for number in range(1,6)}\\na_set', 'number_thing=(number for number in range(1,6))\\ntype(number_thing)', 'for number in number_thing:\\n    print(number)', 'number_thing=(number for number in range(1,6))\\nnumber_list=list(number_thing)\\nnumber_list', 'try_again=list(number_thing)\\ntry_again', 'def do_nothing():\\n    pass', \"def make_a_sound():\\n    print('quack')\\nmake_a_sound()\", \"def agree():\\n    return True\\nif agree():\\n    print('Splendid!')\\nelse:\\n    print('That was unexpected')    \", \"def echo(anything):\\n    return anything+''+anything\\necho('Rumplestiltskin')\", 'def commentary(color):\\n    if color ==\\'red\\':\\n        return \"It\\'s a tomato.\"\\n    elif color ==\"green\":\\n        return \"It\\'s a green pepper\"\\n    elif color ==\\'bee purple\\':\\n        return \"I don\\'t know what it is,but only bees can see it\"\\n    else:\\n        return \"I\\'ve never heard of the color\"  \".\"', \"comment=commentary('blue')\\nprint(comment)\", 'print(do_nothing())', 'thing=None\\nif thing:\\n    print(\"It\\'s some thing\")\\nelse:\\n    print(\"It\\'s no thing\")', 'if thing is None:\\n    print(\"It\\'s nothing\")\\nelse:\\n    print(\"It\\'s no thing\")', 'def is_none(thing):\\n    if thing is None:\\n        print(\"It\\'s None\")\\n    elif thing:\\n        print(\"It\\'s True\")\\n    else:\\n        print(\"It\\'s False\")', 'is_none(None)', 'is_none(True)', 'is_none(False)', 'is_none(0)', 'is_none(0.0)', 'is_none(())', 'is_none([])', 'is_none({})', 'is_none(set())', \"def menu(wine,entree,dessert):\\n    return{'wine':wine,'entree':entree,'dessert':dessert}\\nmenu('chardonnay','chicken','cake')\", \"menu('beef','bagel','bordeaux')\", \"menu(entree='beef',dessert='bagel',wine='bordeaux')\", \"menu('frontenac',dessert='flan',entree='fish')\", 'def menu(wine,entree,dessert=\"pudding\"):\\n    return{\\'wine\\':wine,\\'entree\\':entree,\\'dessert\\':dessert}\\nmenu(\\'chardonnay\\',\\'chicken\\')', \"menu('dunkelfelder','duck','doughnut')\", 'def buggy(arg,result=[]):\\n    result.append(arg)\\n    print(result)', \"buggy('a')\", \"buggy('b')\", 'def works(arg):\\n    result=[]\\n    result.append(arg)\\n    return result', \"works('a')\", \"works('b')\", 'def nonbuggy(arg,result=None):\\n    if result is None:\\n        \\n        result=[]\\n    result.append(arg)\\n    print (result)', \"nonbuggy('a')\", \"nonbuggy('b')\", \"def print_args(*args):\\n    print('Positional argument tuple:',args)\", 'print_args()', \"print_args(3,2,1,'wait!','uh...')\", \"def print_more(required1,required2,*args):\\n    print('Need this one:',required1)\\n    print('Need this one too:',required2)\\n    print('All the rest:',args)\", \"print_more('cap','gloves','scarf','monocle','mustache wax')\", \"def print_kwargs(**kwargs):\\n    print('Keyword arguments:',kwargs)\", \"print_kwargs(wine='merlot',entree='mutton',dessert='macaroon')\", \"def echo(anything):\\n    'echo returns its input argument'\\n    return anything\", \"def print_if_true(thing,check):\\n    '''\\n    Prints the first argument if a second argument is true.\\n    The operation is:\\n        1.Check whether the *second*argument is true.\\n        2.If it is,print the *first* argument.\\n    '''\", 'help(echo)', 'print(echo.__doc__)', 'def answer():\\n    print(42)', 'answer()', 'def run_something(func):\\n    func()', 'run_something(answer)', 'type(run_something)', 'def add_args(arg1,arg2):\\n    print(arg1+arg2)', 'type(add_args)', 'def run_something_with_args(func,arg1,arg2):\\n    func(arg1,arg2)', 'run_something_with_args(add_args,5,9)', 'def sum_args(*args):\\n    return sum(args)', 'def run_with_positional_args(func,*args):\\n    return func(*args)', 'run_with_positional_args(sum_args,1,2,3,4)', 'def outer(a,b):\\n    def inner(c,d):\\n        return c+d\\n    return inner(a,b)', 'outer(4,7)', 'def knights(saying):\\n    def inner(quote):\\n        return \"We are the knights who say:\\'%s\\'\" % quote\\n    return inner(saying)', \"knights('Ni!')\", 'def knights2(saying):\\n    def inner2():\\n        return\"We are the knights who say:\\'%s\\'\" % saying\\n    return inner2', \"a=knights2('Duck')\\nb=knights2('Hasenpfeffer')\", 'type(a)', 'type(b)', 'a', 'b', 'a()', 'b()', 'def edit_story(words,func):\\n    for word in words:\\n        print(func(word))', \"stairs=['thud','meow','thud','hiss']\", \"def enliven(word):   #give that prose more punch\\n    return word.capitalize() + '!'\", 'edit_story(stairs,enliven)', 'sum(range(1,101))', 'def my_range(first=0,last=10,step=1):\\n    number=first\\n    while number<last:\\n        yield number\\n        number += step', 'my_range', 'ranger=my_range(1,5)\\nranger', 'for x in ranger:\\n    print(x)', \"def document_it(func):\\n    def new_function(*args,**kwargs):\\n        print('Running function:',func._name_)\\n        print('Positional arguments:',args)\\n        print('Keyword arguments:',kwargs)\\n        result=func(*args,**kwargs)\\n        print('Result:',result)\\n        return result\\n    return new_functions\", 'def add_ints(a,b):\\n    return a+b', 'add_ints(3,5)', 'def square_it(func):\\n    def new_function(*args,**kwargs):\\n        result=func(*args,**kwargs)\\n        return result*result\\n    return new_function', '@square_it\\ndef add_ints(a,b):\\n    return a+b', 'add_ints(3,5)', \"animal='fruitbat'\\ndef print_global():\\n    print('inside print_global:',animal)\", \"print('a t the top level:',animal)\", 'print_global()', \"def change_and_print_global():\\n    print('inside change_and_print_global:',animal)\\n    animal='wombat'\\n    print('after the change:',animal)\", \"def change_local():\\n    animal='wombat'\\n    print('inside change_local:',animal,id(animal))\", 'change_local()', 'animal', 'id(animal)', \"animal='fruitbat'\\ndef change_and_print_global():\\n    global animal\\n    animal='wombat'\\n    print('inside change_and_print_global:',animal)\", 'animal', 'change_and_print_global()', 'animal', \"animal='fruitbat'\\ndef change_local():\\n    animal='wombat' #local variable\\n    print('locals:',locals())\", 'animal', 'change_local()', \"print('globals:',globals()) #reformatted a little for presentation\"], 'Out': {6: False, 7: True, 8: True, 9: True, 10: True, 11: True, 12: False, 13: True, 14: True, 15: True, 30: [('Monday', 'Lundi'), ('Tuesday', 'Mardi'), ('Wednesday', 'Mercredi')], 31: {'Monday': 'Lundi', 'Tuesday': 'Mardi', 'Wednesday': 'Mercredi'}, 33: [0, 1, 2], 35: [2, 1, 0], 36: [0, 2, 4, 6, 8, 10], 37: [1, 2, 3, 4, 5], 38: [1, 2, 3, 4, 5], 39: [1, 2, 3, 4, 5], 40: [1, 2, 3, 4, 5], 41: [0, 1, 2, 3, 4], 42: [1, 3, 5], 43: [1, 3, 5], 47: {'l': 1, 'e': 2, 't': 2, 'r': 1, 's': 1}, 48: {'t': 2, 'l': 1, 'r': 1, 's': 1, 'e': 2}, 49: {1, 2, 3, 4, 5}, 50: <class 'generator'>, 52: [1, 2, 3, 4, 5], 53: [], 57: 'RumplestiltskinRumplestiltskin', 73: {'wine': 'chardonnay', 'entree': 'chicken', 'dessert': 'cake'}, 74: {'wine': 'beef', 'entree': 'bagel', 'dessert': 'bordeaux'}, 75: {'wine': 'bordeaux', 'entree': 'beef', 'dessert': 'bagel'}, 76: {'wine': 'frontenac', 'entree': 'fish', 'dessert': 'flan'}, 77: {'wine': 'chardonnay', 'entree': 'chicken', 'dessert': 'pudding'}, 78: {'wine': 'dunkelfelder', 'entree': 'duck', 'dessert': 'doughnut'}, 83: ['a'], 84: ['b'], 103: <class 'function'>, 105: <class 'function'>, 110: 10, 112: 11, 114: \"We are the knights who say:'Ni!'\", 117: <class 'function'>, 118: <class 'function'>, 119: <function knights2.<locals>.inner2 at 0x000001571D5787B8>, 120: <function knights2.<locals>.inner2 at 0x000001571D578D90>, 121: \"We are the knights who say:'Duck'\", 122: \"We are the knights who say:'Hasenpfeffer'\", 127: 5050, 129: <function my_range at 0x000001571D562A60>, 130: <generator object my_range at 0x000001571D58FBA0>, 134: 8, 137: 64, 144: 'fruitbat', 145: 1473666186864, 147: 'fruitbat', 149: 'wombat', 151: 'fruitbat'}, 'get_ipython': <bound method InteractiveShell.get_ipython of <ipykernel.zmqshell.ZMQInteractiveShell object at 0x000001571C23B978>>, 'exit': <IPython.core.autocall.ZMQExitAutocall object at 0x000001571C47ADA0>, 'quit': <IPython.core.autocall.ZMQExitAutocall object at 0x000001571C47ADA0>, '_': 'fruitbat', '__': 'wombat', '___': 'fruitbat', '_i': 'change_local()', '_ii': 'animal', '_iii': \"animal='fruitbat'\\ndef change_local():\\n    animal='wombat' #local variable\\n    print('locals:',locals())\", '_i1': 'disaster=True', 'disaster': True, '_i2': 'if disaster:\\n    print(\"Woe!\")\\nelse:\\n    print(\"Whee\")', '_i3': 'furry=True\\nsmall=True\\nif furry:\\n    if small:\\n        print(\"It\\'s a cat.\")\\n    else:print(\"It\\'s a bear!\")\\nelse:\\n    if small:\\n        print(\"It\\'s a skink!\")\\n    else:\\n        print(\"It\\'s a human.Or a hairless bear.\")', 'furry': True, 'small': True, '_i4': 'color=\"puce\"\\nif color==\"red\":\\n    print(\"It\\'s a tomato\")\\nelif color==\"green\":\\n    print(\"It\\'s a green pepper\")\\nelif color==\"bee purple\":\\n    print(\"I don\\'t know what it is,but only bees can see it\")\\nelse:\\n    print(\"I\\'ve necer heard of the color\",color)', 'color': 'puce', '_i5': 'x=7', 'x': 4, '_i6': 'x==5', '_6': False, '_i7': 'x==7', '_7': True, '_i8': '5<x', '_8': True, '_i9': 'x<10', '_9': True, '_i10': '5<x and x<10', '_10': True, '_i11': '5<x or x<10', '_11': True, '_i12': '5<x and x>10', '_12': False, '_i13': '5<x and not x>10', '_13': True, '_i14': '5<x<10', '_14': True, '_i15': '5<x<10<999', '_15': True, '_i16': 'some_list=[]\\nif some_list:\\n    print(\"There\\'s something in here\")\\nelse:\\n    print(\"Hey,it\\'s empty!\")', 'some_list': [], '_i17': 'count=1\\nwhile count<=5:\\n    print(count)\\n    count +=1', 'count': 6, '_i18': 'while True:\\n    stuff=input(\"String tp capitalize [type q to quit]: \")\\n    if stuff==\"q\":\\n        break\\n    print(stuff.capitalize())', 'stuff': 'q', '_i19': 'while True:\\n    value=input(\"Integer,please [q to quit]:\")\\n    if value==\\'q\\':   #quit\\n        break\\n    number=int(value)\\n    if number % 2 ==0:   #an even number\\n        continue\\n    print(number,\"squared is\",number*number)', 'value': 'Col. Mustard', 'number': 5, '_i20': \"numbers=[1,3,5]\\nposition=0\\nwhile position < len(numbers):\\n    number=numbers[position]\\n    if number % 2==0:\\n        print('Found even number',number)\\n        break\\n    position +=1\\nelse: #break not called\\n    print('No even number found')\", 'numbers': [1, 3, 5], 'position': 3, '_i21': \"rabbits=['Flopsy','Mopsy','Cottontail','Peter']\\ncurrent=0\\nfor rabbit in rabbits:\\n    print(rabbit)\", 'rabbits': ['Flopsy', 'Mopsy', 'Cottontail', 'Peter'], 'current': 0, 'rabbit': 'Peter', '_i22': \"word='cat'\\nfor letter in word:\\n    print(letter)\", 'word': 'letters', 'letter': 't', '_i23': \"accusation={'room':'ballroom','weapon':'lead pipe','person':'Col. Mustard'}\\nfor card in accusation:  #or,for card in zccusation.keys():\\n    print(card)\", 'accusation': {'room': 'ballroom', 'weapon': 'lead pipe', 'person': 'Col. Mustard'}, 'card': 'person', '_i24': \"accusation={'room':'ballroom','weapon':'lead pipe','person':'Col. Mustard'}\\nfor value in accusation.values():\\n    print(value)\", '_i25': \"accusation={'room':'ballroom','weapon':'lead pipe','person':'Col. Mustard'}\\nfor item in accusation.items():\\n    print(item)\", 'item': ('person', 'Col. Mustard'), '_i26': \"accusation={'room':'ballroom','weapon':'lead pipe','person':'Col. Mustard'}\\nfor card,contents in accusation.items():\\n    print('Card',card,'has the contents',contents)\", 'contents': 'Col. Mustard', '_i27': \"cheeses=[]\\nfor cheese in cheeses:\\n    print('This shop has some lovely',cheese)\\n    break\\nelse:  #沒有中斷代表沒有乳酪\\n    print('This is not much of a cheese shop,is it?')\", 'cheeses': [], '_i28': \"cheeses=[]\\nfound_one=False\\nfor cheese in cheeses:\\n    found_one=True\\n    print('This shop has some lovely',cheese)\\n    break\\nif not found_one:\\n    print('This is not much of a cheese shop,is it?')\", 'found_one': False, '_i29': 'days=[\\'Monday\\',\\'Tuesday\\',\\'Wednesday\\']\\nfruits=[\\'banana\\',\\'orange\\',\\'peach\\']\\ndrinks=[\\'coffee\\',\\'tea\\',\\'beer\\']\\ndesserts=[\\'tiramisu\\',\\'ice cream\\',\\'pie\\',\\'pudding\\']\\nfor day,fruit,drink,dessert in zip(days,fruits,drinks,desserts):\\n    print(day,\":drink\",drink,\"-eat\",fruit,\"-enjoy\",dessert)', 'days': ['Monday', 'Tuesday', 'Wednesday'], 'fruits': ['banana', 'orange', 'peach'], 'drinks': ['coffee', 'tea', 'beer'], 'desserts': ['tiramisu', 'ice cream', 'pie', 'pudding'], 'day': 'Wednesday', 'fruit': 'peach', 'drink': 'beer', 'dessert': 'pie', '_i30': \"english='Monday','Tuesday','Wednesday'\\nfrench='Lundi','Mardi','Mercredi'\\nlist(zip(english,french))\", 'english': ('Monday', 'Tuesday', 'Wednesday'), 'french': ('Lundi', 'Mardi', 'Mercredi'), '_30': [('Monday', 'Lundi'), ('Tuesday', 'Mardi'), ('Wednesday', 'Mercredi')], '_i31': 'dict(zip(english,french))', '_31': {'Monday': 'Lundi', 'Tuesday': 'Mardi', 'Wednesday': 'Mercredi'}, '_i32': 'for x in range(0,3):\\n    print(x)', '_i33': 'list(range(0,3))', '_33': [0, 1, 2], '_i34': 'for x in range(2,-1,-1):\\n    print(x)', '_i35': 'list(range(2,-1,-1))', '_35': [2, 1, 0], '_i36': 'list(range(0,11,2))', '_36': [0, 2, 4, 6, 8, 10], '_i37': 'number_list=[]\\nnumber_list.append(1)\\nnumber_list.append(2)\\nnumber_list.append(3)\\nnumber_list.append(4)\\nnumber_list.append(5)\\nnumber_list', 'number_list': [1, 2, 3, 4, 5], '_37': [1, 2, 3, 4, 5], '_i38': 'number_list=[]\\nfor number in range(1,6):\\n    number_list.append(number)\\nnumber_list', '_38': [1, 2, 3, 4, 5], '_i39': 'number_list=list(range(1,6))\\nnumber_list', '_39': [1, 2, 3, 4, 5], '_i40': 'number_list=[number for number in range(1,6)]\\nnumber_list', '_40': [1, 2, 3, 4, 5], '_i41': 'number_list=[number-1 for number in range(1,6)]\\nnumber_list', '_41': [0, 1, 2, 3, 4], '_i42': 'a_list=[number for number in range(1,6) if number % 2 ==1]\\na_list', 'a_list': [1, 3, 5], '_42': [1, 3, 5], '_i43': 'a_list=[]\\nfor number in range(1,6):\\n    if number % 2 ==1:\\n        a_list.append(number)\\na_list', '_43': [1, 3, 5], '_i44': 'rows=range(1,4)\\ncols=range(1,3)\\nfor row in rows:\\n    for col in cols:\\n        print(row,col)', 'rows': range(1, 4), 'cols': range(1, 3), 'row': 3, 'col': 2, '_i45': 'rows=range(1,4)\\ncols=range(1,3)\\ncells=[(row,col) for row in rows for col in cols]\\nfor cell in cells:\\n    print(cell)', 'cells': [(1, 1), (1, 2), (2, 1), (2, 2), (3, 1), (3, 2)], 'cell': (3, 2), '_i46': 'for row,col in cells:\\n    print(row,col)', '_i47': \"word='letters'\\nletter_counts={letter:word.count(letter) for letter in word}\\nletter_counts\", 'letter_counts': {'t': 2, 'l': 1, 'r': 1, 's': 1, 'e': 2}, '_47': {'l': 1, 'e': 2, 't': 2, 'r': 1, 's': 1}, '_i48': \"word='letters'\\nletter_counts={letter:word.count(letter) for letter in set (word)}\\nletter_counts\", '_48': {'t': 2, 'l': 1, 'r': 1, 's': 1, 'e': 2}, '_i49': 'a_set={number for number in range(1,6)}\\na_set', 'a_set': {1, 2, 3, 4, 5}, '_49': {1, 2, 3, 4, 5}, '_i50': 'number_thing=(number for number in range(1,6))\\ntype(number_thing)', 'number_thing': <generator object <genexpr> at 0x000001571D516938>, '_50': <class 'generator'>, '_i51': 'for number in number_thing:\\n    print(number)', '_i52': 'number_thing=(number for number in range(1,6))\\nnumber_list=list(number_thing)\\nnumber_list', '_52': [1, 2, 3, 4, 5], '_i53': 'try_again=list(number_thing)\\ntry_again', 'try_again': [], '_53': [], '_i54': 'def do_nothing():\\n    pass', 'do_nothing': <function do_nothing at 0x000001571D527B70>, '_i55': \"def make_a_sound():\\n    print('quack')\\nmake_a_sound()\", 'make_a_sound': <function make_a_sound at 0x000001571D527A60>, '_i56': \"def agree():\\n    return True\\nif agree():\\n    print('Splendid!')\\nelse:\\n    print('That was unexpected')    \", 'agree': <function agree at 0x000001571D5277B8>, '_i57': \"def echo(anything):\\n    return anything+''+anything\\necho('Rumplestiltskin')\", 'echo': <function echo at 0x000001571D578268>, '_57': 'RumplestiltskinRumplestiltskin', '_i58': 'def commentary(color):\\n    if color ==\\'red\\':\\n        return \"It\\'s a tomato.\"\\n    elif color ==\"green\":\\n        return \"It\\'s a green pepper\"\\n    elif color ==\\'bee purple\\':\\n        return \"I don\\'t know what it is,but only bees can see it\"\\n    else:\\n        return \"I\\'ve never heard of the color\"  \".\"', 'commentary': <function commentary at 0x000001571D578A60>, '_i59': \"comment=commentary('blue')\\nprint(comment)\", 'comment': \"I've never heard of the color.\", '_i60': 'print(do_nothing())', '_i61': 'thing=None\\nif thing:\\n    print(\"It\\'s some thing\")\\nelse:\\n    print(\"It\\'s no thing\")', 'thing': None, '_i62': 'if thing is None:\\n    print(\"It\\'s nothing\")\\nelse:\\n    print(\"It\\'s no thing\")', '_i63': 'def is_none(thing):\\n    if thing is None:\\n        print(\"It\\'s None\")\\n    elif thing:\\n        print(\"It\\'s True\")\\n    else:\\n        print(\"It\\'s False\")', 'is_none': <function is_none at 0x000001571D527AE8>, '_i64': 'is_none(None)', '_i65': 'is_none(True)', '_i66': 'is_none(False)', '_i67': 'is_none(0)', '_i68': 'is_none(0.0)', '_i69': 'is_none(())', '_i70': 'is_none([])', '_i71': 'is_none({})', '_i72': 'is_none(set())', '_i73': \"def menu(wine,entree,dessert):\\n    return{'wine':wine,'entree':entree,'dessert':dessert}\\nmenu('chardonnay','chicken','cake')\", 'menu': <function menu at 0x000001571D527D90>, '_73': {'wine': 'chardonnay', 'entree': 'chicken', 'dessert': 'cake'}, '_i74': \"menu('beef','bagel','bordeaux')\", '_74': {'wine': 'beef', 'entree': 'bagel', 'dessert': 'bordeaux'}, '_i75': \"menu(entree='beef',dessert='bagel',wine='bordeaux')\", '_75': {'wine': 'bordeaux', 'entree': 'beef', 'dessert': 'bagel'}, '_i76': \"menu('frontenac',dessert='flan',entree='fish')\", '_76': {'wine': 'frontenac', 'entree': 'fish', 'dessert': 'flan'}, '_i77': 'def menu(wine,entree,dessert=\"pudding\"):\\n    return{\\'wine\\':wine,\\'entree\\':entree,\\'dessert\\':dessert}\\nmenu(\\'chardonnay\\',\\'chicken\\')', '_77': {'wine': 'chardonnay', 'entree': 'chicken', 'dessert': 'pudding'}, '_i78': \"menu('dunkelfelder','duck','doughnut')\", '_78': {'wine': 'dunkelfelder', 'entree': 'duck', 'dessert': 'doughnut'}, '_i79': 'def buggy(arg,result=[]):\\n    result.append(arg)\\n    print(result)', 'buggy': <function buggy at 0x000001571D5279D8>, '_i80': \"buggy('a')\", '_i81': \"buggy('b')\", '_i82': 'def works(arg):\\n    result=[]\\n    result.append(arg)\\n    return result', 'works': <function works at 0x000001571D5780D0>, '_i83': \"works('a')\", '_83': ['a'], '_i84': \"works('b')\", '_84': ['b'], '_i85': 'def nonbuggy(arg,result=None):\\n    if result is None:\\n        \\n        result=[]\\n    result.append(arg)\\n    print (result)', 'nonbuggy': <function nonbuggy at 0x000001571D578048>, '_i86': \"nonbuggy('a')\", '_i87': \"nonbuggy('b')\", '_i88': \"def print_args(*args):\\n    print('Positional argument tuple:',args)\", 'print_args': <function print_args at 0x000001571D5781E0>, '_i89': 'print_args()', '_i90': \"print_args(3,2,1,'wait!','uh...')\", '_i91': \"def print_more(required1,required2,*args):\\n    print('Need this one:',required1)\\n    print('Need this one too:',required2)\\n    print('All the rest:',args)\", 'print_more': <function print_more at 0x000001571D578510>, '_i92': \"print_more('cap','gloves','scarf','monocle','mustache wax')\", '_i93': \"def print_kwargs(**kwargs):\\n    print('Keyword arguments:',kwargs)\", 'print_kwargs': <function print_kwargs at 0x000001571D578730>, '_i94': \"print_kwargs(wine='merlot',entree='mutton',dessert='macaroon')\", '_i95': \"def echo(anything):\\n    'echo returns its input argument'\\n    return anything\", '_i96': \"def print_if_true(thing,check):\\n    '''\\n    Prints the first argument if a second argument is true.\\n    The operation is:\\n        1.Check whether the *second*argument is true.\\n        2.If it is,print the *first* argument.\\n    '''\", 'print_if_true': <function print_if_true at 0x000001571D578378>, '_i97': 'help(echo)', '_i98': 'print(echo.__doc__)', '_i99': 'def answer():\\n    print(42)', 'answer': <function answer at 0x000001571D578840>, '_i100': 'answer()', '_i101': 'def run_something(func):\\n    func()', 'run_something': <function run_something at 0x0000015719E46F28>, '_i102': 'run_something(answer)', '_i103': 'type(run_something)', '_103': <class 'function'>, '_i104': 'def add_args(arg1,arg2):\\n    print(arg1+arg2)', 'add_args': <function add_args at 0x000001571D578F28>, '_i105': 'type(add_args)', '_105': <class 'function'>, '_i106': 'def run_something_with_args(func,arg1,arg2):\\n    func(arg1,arg2)', 'run_something_with_args': <function run_something_with_args at 0x000001571D578BF8>, '_i107': 'run_something_with_args(add_args,5,9)', '_i108': 'def sum_args(*args):\\n    return sum(args)', 'sum_args': <function sum_args at 0x000001571D562730>, '_i109': 'def run_with_positional_args(func,*args):\\n    return func(*args)', 'run_with_positional_args': <function run_with_positional_args at 0x000001571D562378>, '_i110': 'run_with_positional_args(sum_args,1,2,3,4)', '_110': 10, '_i111': 'def outer(a,b):\\n    def inner(c,d):\\n        return c+d\\n    return inner(a,b)', 'outer': <function outer at 0x000001571D527840>, '_i112': 'outer(4,7)', '_112': 11, '_i113': 'def knights(saying):\\n    def inner(quote):\\n        return \"We are the knights who say:\\'%s\\'\" % quote\\n    return inner(saying)', 'knights': <function knights at 0x000001571D527C80>, '_i114': \"knights('Ni!')\", '_114': \"We are the knights who say:'Ni!'\", '_i115': 'def knights2(saying):\\n    def inner2():\\n        return\"We are the knights who say:\\'%s\\'\" % saying\\n    return inner2', 'knights2': <function knights2 at 0x000001571D527E18>, '_i116': \"a=knights2('Duck')\\nb=knights2('Hasenpfeffer')\", 'a': <function knights2.<locals>.inner2 at 0x000001571D5787B8>, 'b': <function knights2.<locals>.inner2 at 0x000001571D578D90>, '_i117': 'type(a)', '_117': <class 'function'>, '_i118': 'type(b)', '_118': <class 'function'>, '_i119': 'a', '_119': <function knights2.<locals>.inner2 at 0x000001571D5787B8>, '_i120': 'b', '_120': <function knights2.<locals>.inner2 at 0x000001571D578D90>, '_i121': 'a()', '_121': \"We are the knights who say:'Duck'\", '_i122': 'b()', '_122': \"We are the knights who say:'Hasenpfeffer'\", '_i123': 'def edit_story(words,func):\\n    for word in words:\\n        print(func(word))', 'edit_story': <function edit_story at 0x000001571D5788C8>, '_i124': \"stairs=['thud','meow','thud','hiss']\", 'stairs': ['thud', 'meow', 'thud', 'hiss'], '_i125': \"def enliven(word):   #give that prose more punch\\n    return word.capitalize() + '!'\", 'enliven': <function enliven at 0x000001571D562C80>, '_i126': 'edit_story(stairs,enliven)', '_i127': 'sum(range(1,101))', '_127': 5050, '_i128': 'def my_range(first=0,last=10,step=1):\\n    number=first\\n    while number<last:\\n        yield number\\n        number += step', 'my_range': <function my_range at 0x000001571D562A60>, '_i129': 'my_range', '_129': <function my_range at 0x000001571D562A60>, '_i130': 'ranger=my_range(1,5)\\nranger', 'ranger': <generator object my_range at 0x000001571D58FBA0>, '_130': <generator object my_range at 0x000001571D58FBA0>, '_i131': 'for x in ranger:\\n    print(x)', '_i132': \"def document_it(func):\\n    def new_function(*args,**kwargs):\\n        print('Running function:',func._name_)\\n        print('Positional arguments:',args)\\n        print('Keyword arguments:',kwargs)\\n        result=func(*args,**kwargs)\\n        print('Result:',result)\\n        return result\\n    return new_functions\", 'document_it': <function document_it at 0x000001571D5626A8>, '_i133': 'def add_ints(a,b):\\n    return a+b', 'add_ints': <function square_it.<locals>.new_function at 0x000001571D562488>, '_i134': 'add_ints(3,5)', '_134': 8, '_i135': 'def square_it(func):\\n    def new_function(*args,**kwargs):\\n        result=func(*args,**kwargs)\\n        return result*result\\n    return new_function', 'square_it': <function square_it at 0x000001571D5621E0>, '_i136': '@square_it\\ndef add_ints(a,b):\\n    return a+b', '_i137': 'add_ints(3,5)', '_137': 64, '_i138': \"animal='fruitbat'\\ndef print_global():\\n    print('inside print_global:',animal)\", 'animal': 'fruitbat', 'print_global': <function print_global at 0x000001571D562D08>, '_i139': \"print('a t the top level:',animal)\", '_i140': 'print_global()', '_i141': \"def change_and_print_global():\\n    print('inside change_and_print_global:',animal)\\n    animal='wombat'\\n    print('after the change:',animal)\", 'change_and_print_global': <function change_and_print_global at 0x000001571D578400>, '_i142': \"def change_local():\\n    animal='wombat'\\n    print('inside change_local:',animal,id(animal))\", 'change_local': <function change_local at 0x000001571D578C80>, '_i143': 'change_local()', '_i144': 'animal', '_144': 'fruitbat', '_i145': 'id(animal)', '_145': 1473666186864, '_i146': \"animal='fruitbat'\\ndef change_and_print_global():\\n    global animal\\n    animal='wombat'\\n    print('inside change_and_print_global:',animal)\", '_i147': 'animal', '_147': 'fruitbat', '_i148': 'change_and_print_global()', '_i149': 'animal', '_149': 'wombat', '_i150': \"animal='fruitbat'\\ndef change_local():\\n    animal='wombat' #local variable\\n    print('locals:',locals())\", '_i151': 'animal', '_151': 'fruitbat', '_i152': 'change_local()', '_i153': \"print('globals:',globals()) #reformatted a little for presentation\"}\n"
     ]
    }
   ],
   "source": [
    "print('globals:',globals()) #reformatted a little for presentation"
   ]
  },
  {
   "cell_type": "code",
   "execution_count": 154,
   "metadata": {},
   "outputs": [
    {
     "data": {
      "text/plain": [
       "'fruitbat'"
      ]
     },
     "execution_count": 154,
     "metadata": {},
     "output_type": "execute_result"
    }
   ],
   "source": [
    "animal"
   ]
  },
  {
   "cell_type": "code",
   "execution_count": 155,
   "metadata": {
    "collapsed": true
   },
   "outputs": [],
   "source": [
    "def amazing():\n",
    "    '''This is the amazing function.\n",
    "    Want to see it again?'''\n",
    "    print('This function is named:',amazing.__name__)\n",
    "    print('And its docstring is:',amazing.__doc__)"
   ]
  },
  {
   "cell_type": "code",
   "execution_count": 156,
   "metadata": {},
   "outputs": [
    {
     "name": "stdout",
     "output_type": "stream",
     "text": [
      "This function is named: amazing\n",
      "And its docstring is: This is the amazing function.\n",
      "    Want to see it again?\n"
     ]
    }
   ],
   "source": [
    "amazing()"
   ]
  },
  {
   "cell_type": "code",
   "execution_count": 157,
   "metadata": {},
   "outputs": [],
   "source": [
    "short_list=[1,2,3]"
   ]
  },
  {
   "cell_type": "code",
   "execution_count": 158,
   "metadata": {
    "collapsed": true
   },
   "outputs": [],
   "source": [
    "position=5"
   ]
  },
  {
   "cell_type": "code",
   "execution_count": 159,
   "metadata": {},
   "outputs": [
    {
     "name": "stdout",
     "output_type": "stream",
     "text": [
      "Need a position between 0and 2 but got 5\n"
     ]
    }
   ],
   "source": [
    "try:\n",
    "    short_list[position]\n",
    "except:\n",
    "    print('Need a position between 0and',len(short_list)-1,'but got',position)"
   ]
  },
  {
   "cell_type": "code",
   "execution_count": 162,
   "metadata": {},
   "outputs": [
    {
     "name": "stdout",
     "output_type": "stream",
     "text": [
      "position[qto quit]?1\n",
      "2\n",
      "position[qto quit]?0\n",
      "1\n",
      "position[qto quit]?2\n",
      "3\n",
      "position[qto quit]?two\n",
      "Something else broke: invalid literal for int() with base 10: 'two'\n",
      "position[qto quit]?q\n"
     ]
    }
   ],
   "source": [
    "short_list=[1,2,3]\n",
    "while True:\n",
    "    value=input('position[qto quit]?')\n",
    "    if value=='q':\n",
    "        break\n",
    "    try:\n",
    "        position=int(value)\n",
    "        print(short_list[position])\n",
    "    except IndexError:\n",
    "        print('Bad Index:',posution)\n",
    "    except Exception as other:\n",
    "        print('Something else broke:',other)"
   ]
  },
  {
   "cell_type": "code",
   "execution_count": 163,
   "metadata": {
    "collapsed": true
   },
   "outputs": [],
   "source": [
    "class UppercaseException(Exception):\n",
    "    pass"
   ]
  },
  {
   "cell_type": "code",
   "execution_count": 164,
   "metadata": {
    "collapsed": true
   },
   "outputs": [],
   "source": [
    "words=['eeenie','meenie','miny','Mo']\n",
    "for word in words:\n",
    "    if word.isupper():\n",
    "        raise UppercaseException(word)"
   ]
  }
 ],
 "metadata": {
  "kernelspec": {
   "display_name": "Python 3",
   "language": "python",
   "name": "python3"
  },
  "language_info": {
   "codemirror_mode": {
    "name": "ipython",
    "version": 3
   },
   "file_extension": ".py",
   "mimetype": "text/x-python",
   "name": "python",
   "nbconvert_exporter": "python",
   "pygments_lexer": "ipython3",
   "version": "3.6.3"
  }
 },
 "nbformat": 4,
 "nbformat_minor": 2
}
